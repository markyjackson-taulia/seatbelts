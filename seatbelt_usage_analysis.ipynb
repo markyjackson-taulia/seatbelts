{
 "cells": [
  {
   "cell_type": "code",
   "execution_count": 1,
   "metadata": {},
   "outputs": [],
   "source": [
    "import numpy as np\n",
    "import pandas as pd\n",
    "import statsmodels.api as sm\n",
    "import statsmodels.formula.api as smf"
   ]
  },
  {
   "cell_type": "code",
   "execution_count": 3,
   "metadata": {},
   "outputs": [],
   "source": [
    "seatbelt_df = pd.read_csv('seatbelts.csv')"
   ]
  },
  {
   "cell_type": "code",
   "execution_count": 4,
   "metadata": {},
   "outputs": [
    {
     "output_type": "execute_result",
     "data": {
      "text/plain": [
       "  state  year  fips  fatalityrate  sb_usage  speed65  speed70  drinkage21  \\\n",
       "0    AK  1983     2      0.044669       NaN        0        0           1   \n",
       "1    AK  1984     2      0.037336       NaN        0        0           1   \n",
       "\n",
       "   ba08  income        age  primary  secondary  \n",
       "0     0   17973  28.234966        0          0  \n",
       "1     0   18093  28.343542        0          0  "
      ],
      "text/html": "<div>\n<style scoped>\n    .dataframe tbody tr th:only-of-type {\n        vertical-align: middle;\n    }\n\n    .dataframe tbody tr th {\n        vertical-align: top;\n    }\n\n    .dataframe thead th {\n        text-align: right;\n    }\n</style>\n<table border=\"1\" class=\"dataframe\">\n  <thead>\n    <tr style=\"text-align: right;\">\n      <th></th>\n      <th>state</th>\n      <th>year</th>\n      <th>fips</th>\n      <th>fatalityrate</th>\n      <th>sb_usage</th>\n      <th>speed65</th>\n      <th>speed70</th>\n      <th>drinkage21</th>\n      <th>ba08</th>\n      <th>income</th>\n      <th>age</th>\n      <th>primary</th>\n      <th>secondary</th>\n    </tr>\n  </thead>\n  <tbody>\n    <tr>\n      <th>0</th>\n      <td>AK</td>\n      <td>1983</td>\n      <td>2</td>\n      <td>0.044669</td>\n      <td>NaN</td>\n      <td>0</td>\n      <td>0</td>\n      <td>1</td>\n      <td>0</td>\n      <td>17973</td>\n      <td>28.234966</td>\n      <td>0</td>\n      <td>0</td>\n    </tr>\n    <tr>\n      <th>1</th>\n      <td>AK</td>\n      <td>1984</td>\n      <td>2</td>\n      <td>0.037336</td>\n      <td>NaN</td>\n      <td>0</td>\n      <td>0</td>\n      <td>1</td>\n      <td>0</td>\n      <td>18093</td>\n      <td>28.343542</td>\n      <td>0</td>\n      <td>0</td>\n    </tr>\n  </tbody>\n</table>\n</div>"
     },
     "metadata": {},
     "execution_count": 4
    }
   ],
   "source": [
    "seatbelt_df.head(2)"
   ]
  },
  {
   "cell_type": "code",
   "execution_count": 5,
   "metadata": {},
   "outputs": [
    {
     "output_type": "execute_result",
     "data": {
      "text/plain": [
       "    state  year  fips  fatalityrate  sb_usage  speed65  speed70  drinkage21  \\\n",
       "704    VT  1997    50      0.014847     0.709        1        0           1   \n",
       "131    DE  1994    10      0.015943     0.590        1        0           1   \n",
       "566    OR  1994    41      0.016772     0.810        1        0           1   \n",
       "159    GA  1992    13      0.016880     0.461        1        0           1   \n",
       "700    VT  1993    50      0.018407     0.538        1        0           1   \n",
       "\n",
       "     ba08  income        age  primary  secondary  \n",
       "704     1   23017  36.767960        0          1  \n",
       "131     0   24465  35.968498        0          1  \n",
       "566     1   20508  36.571068        1          0  \n",
       "159     0   18888  34.094875        0          1  \n",
       "700     1   19392  35.594769        0          0  "
      ],
      "text/html": "<div>\n<style scoped>\n    .dataframe tbody tr th:only-of-type {\n        vertical-align: middle;\n    }\n\n    .dataframe tbody tr th {\n        vertical-align: top;\n    }\n\n    .dataframe thead th {\n        text-align: right;\n    }\n</style>\n<table border=\"1\" class=\"dataframe\">\n  <thead>\n    <tr style=\"text-align: right;\">\n      <th></th>\n      <th>state</th>\n      <th>year</th>\n      <th>fips</th>\n      <th>fatalityrate</th>\n      <th>sb_usage</th>\n      <th>speed65</th>\n      <th>speed70</th>\n      <th>drinkage21</th>\n      <th>ba08</th>\n      <th>income</th>\n      <th>age</th>\n      <th>primary</th>\n      <th>secondary</th>\n    </tr>\n  </thead>\n  <tbody>\n    <tr>\n      <th>704</th>\n      <td>VT</td>\n      <td>1997</td>\n      <td>50</td>\n      <td>0.014847</td>\n      <td>0.709</td>\n      <td>1</td>\n      <td>0</td>\n      <td>1</td>\n      <td>1</td>\n      <td>23017</td>\n      <td>36.767960</td>\n      <td>0</td>\n      <td>1</td>\n    </tr>\n    <tr>\n      <th>131</th>\n      <td>DE</td>\n      <td>1994</td>\n      <td>10</td>\n      <td>0.015943</td>\n      <td>0.590</td>\n      <td>1</td>\n      <td>0</td>\n      <td>1</td>\n      <td>0</td>\n      <td>24465</td>\n      <td>35.968498</td>\n      <td>0</td>\n      <td>1</td>\n    </tr>\n    <tr>\n      <th>566</th>\n      <td>OR</td>\n      <td>1994</td>\n      <td>41</td>\n      <td>0.016772</td>\n      <td>0.810</td>\n      <td>1</td>\n      <td>0</td>\n      <td>1</td>\n      <td>1</td>\n      <td>20508</td>\n      <td>36.571068</td>\n      <td>1</td>\n      <td>0</td>\n    </tr>\n    <tr>\n      <th>159</th>\n      <td>GA</td>\n      <td>1992</td>\n      <td>13</td>\n      <td>0.016880</td>\n      <td>0.461</td>\n      <td>1</td>\n      <td>0</td>\n      <td>1</td>\n      <td>0</td>\n      <td>18888</td>\n      <td>34.094875</td>\n      <td>0</td>\n      <td>1</td>\n    </tr>\n    <tr>\n      <th>700</th>\n      <td>VT</td>\n      <td>1993</td>\n      <td>50</td>\n      <td>0.018407</td>\n      <td>0.538</td>\n      <td>1</td>\n      <td>0</td>\n      <td>1</td>\n      <td>1</td>\n      <td>19392</td>\n      <td>35.594769</td>\n      <td>0</td>\n      <td>0</td>\n    </tr>\n  </tbody>\n</table>\n</div>"
     },
     "metadata": {},
     "execution_count": 5
    }
   ],
   "source": [
    "seatbelt_df.sample(5)"
   ]
  },
  {
   "cell_type": "code",
   "execution_count": 6,
   "metadata": {},
   "outputs": [
    {
     "output_type": "execute_result",
     "data": {
      "text/plain": [
       "    state  year  fips  fatalityrate  sb_usage  speed65  speed70  drinkage21  \\\n",
       "763    WY  1996    56      0.019429      0.72        1        1           1   \n",
       "764    WY  1997    56      0.018083      0.75        1        1           1   \n",
       "\n",
       "     ba08  income        age  primary  secondary  \n",
       "763     0   21524  35.074348        0          1  \n",
       "764     0   22596  35.386463        0          1  "
      ],
      "text/html": "<div>\n<style scoped>\n    .dataframe tbody tr th:only-of-type {\n        vertical-align: middle;\n    }\n\n    .dataframe tbody tr th {\n        vertical-align: top;\n    }\n\n    .dataframe thead th {\n        text-align: right;\n    }\n</style>\n<table border=\"1\" class=\"dataframe\">\n  <thead>\n    <tr style=\"text-align: right;\">\n      <th></th>\n      <th>state</th>\n      <th>year</th>\n      <th>fips</th>\n      <th>fatalityrate</th>\n      <th>sb_usage</th>\n      <th>speed65</th>\n      <th>speed70</th>\n      <th>drinkage21</th>\n      <th>ba08</th>\n      <th>income</th>\n      <th>age</th>\n      <th>primary</th>\n      <th>secondary</th>\n    </tr>\n  </thead>\n  <tbody>\n    <tr>\n      <th>763</th>\n      <td>WY</td>\n      <td>1996</td>\n      <td>56</td>\n      <td>0.019429</td>\n      <td>0.72</td>\n      <td>1</td>\n      <td>1</td>\n      <td>1</td>\n      <td>0</td>\n      <td>21524</td>\n      <td>35.074348</td>\n      <td>0</td>\n      <td>1</td>\n    </tr>\n    <tr>\n      <th>764</th>\n      <td>WY</td>\n      <td>1997</td>\n      <td>56</td>\n      <td>0.018083</td>\n      <td>0.75</td>\n      <td>1</td>\n      <td>1</td>\n      <td>1</td>\n      <td>0</td>\n      <td>22596</td>\n      <td>35.386463</td>\n      <td>0</td>\n      <td>1</td>\n    </tr>\n  </tbody>\n</table>\n</div>"
     },
     "metadata": {},
     "execution_count": 6
    }
   ],
   "source": [
    "seatbelt_df.tail(2)"
   ]
  },
  {
   "cell_type": "code",
   "execution_count": 7,
   "metadata": {},
   "outputs": [
    {
     "output_type": "execute_result",
     "data": {
      "text/plain": [
       "             year        fips  fatalityrate    sb_usage     speed65  \\\n",
       "count   765.00000  765.000000    765.000000  556.000000  765.000000   \n",
       "mean   1990.00000   28.960784      0.021490    0.528852    0.645752   \n",
       "std       4.32332   15.687092      0.006171    0.170186    0.478598   \n",
       "min    1983.00000    1.000000      0.008327    0.060000    0.000000   \n",
       "25%    1986.00000   16.000000      0.017341    0.420000    0.000000   \n",
       "50%    1990.00000   29.000000      0.021199    0.550000    1.000000   \n",
       "75%    1994.00000   42.000000      0.024774    0.650000    1.000000   \n",
       "max    1997.00000   56.000000      0.045470    0.870000    1.000000   \n",
       "\n",
       "          speed70  drinkage21        ba08        income         age  \\\n",
       "count  765.000000  765.000000  765.000000    765.000000  765.000000   \n",
       "mean     0.070588    0.884967    0.116340  17992.586928   35.137194   \n",
       "std      0.256303    0.319270    0.320842   4811.459296    1.698131   \n",
       "min      0.000000    0.000000    0.000000   8372.000000   28.234966   \n",
       "25%      0.000000    1.000000    0.000000  14266.000000   34.387501   \n",
       "50%      0.000000    1.000000    0.000000  17624.000000   35.391766   \n",
       "75%      0.000000    1.000000    0.000000  21080.000000   36.130787   \n",
       "max      1.000000    1.000000    1.000000  35863.000000   39.169582   \n",
       "\n",
       "          primary   secondary  \n",
       "count  765.000000  765.000000  \n",
       "mean     0.121569    0.495425  \n",
       "std      0.327001    0.500306  \n",
       "min      0.000000    0.000000  \n",
       "25%      0.000000    0.000000  \n",
       "50%      0.000000    0.000000  \n",
       "75%      0.000000    1.000000  \n",
       "max      1.000000    1.000000  "
      ],
      "text/html": "<div>\n<style scoped>\n    .dataframe tbody tr th:only-of-type {\n        vertical-align: middle;\n    }\n\n    .dataframe tbody tr th {\n        vertical-align: top;\n    }\n\n    .dataframe thead th {\n        text-align: right;\n    }\n</style>\n<table border=\"1\" class=\"dataframe\">\n  <thead>\n    <tr style=\"text-align: right;\">\n      <th></th>\n      <th>year</th>\n      <th>fips</th>\n      <th>fatalityrate</th>\n      <th>sb_usage</th>\n      <th>speed65</th>\n      <th>speed70</th>\n      <th>drinkage21</th>\n      <th>ba08</th>\n      <th>income</th>\n      <th>age</th>\n      <th>primary</th>\n      <th>secondary</th>\n    </tr>\n  </thead>\n  <tbody>\n    <tr>\n      <th>count</th>\n      <td>765.00000</td>\n      <td>765.000000</td>\n      <td>765.000000</td>\n      <td>556.000000</td>\n      <td>765.000000</td>\n      <td>765.000000</td>\n      <td>765.000000</td>\n      <td>765.000000</td>\n      <td>765.000000</td>\n      <td>765.000000</td>\n      <td>765.000000</td>\n      <td>765.000000</td>\n    </tr>\n    <tr>\n      <th>mean</th>\n      <td>1990.00000</td>\n      <td>28.960784</td>\n      <td>0.021490</td>\n      <td>0.528852</td>\n      <td>0.645752</td>\n      <td>0.070588</td>\n      <td>0.884967</td>\n      <td>0.116340</td>\n      <td>17992.586928</td>\n      <td>35.137194</td>\n      <td>0.121569</td>\n      <td>0.495425</td>\n    </tr>\n    <tr>\n      <th>std</th>\n      <td>4.32332</td>\n      <td>15.687092</td>\n      <td>0.006171</td>\n      <td>0.170186</td>\n      <td>0.478598</td>\n      <td>0.256303</td>\n      <td>0.319270</td>\n      <td>0.320842</td>\n      <td>4811.459296</td>\n      <td>1.698131</td>\n      <td>0.327001</td>\n      <td>0.500306</td>\n    </tr>\n    <tr>\n      <th>min</th>\n      <td>1983.00000</td>\n      <td>1.000000</td>\n      <td>0.008327</td>\n      <td>0.060000</td>\n      <td>0.000000</td>\n      <td>0.000000</td>\n      <td>0.000000</td>\n      <td>0.000000</td>\n      <td>8372.000000</td>\n      <td>28.234966</td>\n      <td>0.000000</td>\n      <td>0.000000</td>\n    </tr>\n    <tr>\n      <th>25%</th>\n      <td>1986.00000</td>\n      <td>16.000000</td>\n      <td>0.017341</td>\n      <td>0.420000</td>\n      <td>0.000000</td>\n      <td>0.000000</td>\n      <td>1.000000</td>\n      <td>0.000000</td>\n      <td>14266.000000</td>\n      <td>34.387501</td>\n      <td>0.000000</td>\n      <td>0.000000</td>\n    </tr>\n    <tr>\n      <th>50%</th>\n      <td>1990.00000</td>\n      <td>29.000000</td>\n      <td>0.021199</td>\n      <td>0.550000</td>\n      <td>1.000000</td>\n      <td>0.000000</td>\n      <td>1.000000</td>\n      <td>0.000000</td>\n      <td>17624.000000</td>\n      <td>35.391766</td>\n      <td>0.000000</td>\n      <td>0.000000</td>\n    </tr>\n    <tr>\n      <th>75%</th>\n      <td>1994.00000</td>\n      <td>42.000000</td>\n      <td>0.024774</td>\n      <td>0.650000</td>\n      <td>1.000000</td>\n      <td>0.000000</td>\n      <td>1.000000</td>\n      <td>0.000000</td>\n      <td>21080.000000</td>\n      <td>36.130787</td>\n      <td>0.000000</td>\n      <td>1.000000</td>\n    </tr>\n    <tr>\n      <th>max</th>\n      <td>1997.00000</td>\n      <td>56.000000</td>\n      <td>0.045470</td>\n      <td>0.870000</td>\n      <td>1.000000</td>\n      <td>1.000000</td>\n      <td>1.000000</td>\n      <td>1.000000</td>\n      <td>35863.000000</td>\n      <td>39.169582</td>\n      <td>1.000000</td>\n      <td>1.000000</td>\n    </tr>\n  </tbody>\n</table>\n</div>"
     },
     "metadata": {},
     "execution_count": 7
    }
   ],
   "source": [
    "seatbelt_df.describe()"
   ]
  },
  {
   "cell_type": "code",
   "execution_count": 8,
   "metadata": {},
   "outputs": [
    {
     "output_type": "stream",
     "name": "stdout",
     "text": [
      " \nsb_usage mean: 0.0008734453528687364\nsb_usage confidence interval: -0.0026467305187014684 0.004393621224438942\n \n"
     ]
    },
    {
     "output_type": "execute_result",
     "data": {
      "text/plain": [
       "<class 'statsmodels.iolib.summary.Summary'>\n",
       "\"\"\"\n",
       "                            OLS Regression Results                            \n",
       "==============================================================================\n",
       "Dep. Variable:           fatalityrate   R-squared:                       0.536\n",
       "Model:                            OLS   Adj. R-squared:                  0.516\n",
       "Method:                 Least Squares   F-statistic:                     26.70\n",
       "Date:                Mon, 12 Apr 2021   Prob (F-statistic):           9.74e-74\n",
       "Time:                        09:08:04   Log-Likelihood:                 2367.5\n",
       "No. Observations:                 556   AIC:                            -4687.\n",
       "Df Residuals:                     532   BIC:                            -4583.\n",
       "Df Model:                          23                                         \n",
       "Covariance Type:            nonrobust                                         \n",
       "===================================================================================\n",
       "                      coef    std err          t      P>|t|      [0.025      0.975]\n",
       "-----------------------------------------------------------------------------------\n",
       "Intercept           0.0354      0.004      8.092      0.000       0.027       0.044\n",
       "C(year)[T.1984]     0.0022      0.002      0.919      0.358      -0.002       0.007\n",
       "C(year)[T.1985]     0.0024      0.002      1.098      0.273      -0.002       0.007\n",
       "C(year)[T.1986]     0.0033      0.002      1.494      0.136      -0.001       0.008\n",
       "C(year)[T.1987]     0.0025      0.002      1.077      0.282      -0.002       0.007\n",
       "C(year)[T.1988]     0.0027      0.002      1.149      0.251      -0.002       0.007\n",
       "C(year)[T.1989]     0.0015      0.002      0.655      0.513      -0.003       0.006\n",
       "C(year)[T.1990]     0.0024      0.002      1.039      0.299      -0.002       0.007\n",
       "C(year)[T.1991]     0.0013      0.002      0.568      0.570      -0.003       0.006\n",
       "C(year)[T.1992]     0.0005      0.002      0.216      0.829      -0.004       0.005\n",
       "C(year)[T.1993]     0.0009      0.002      0.390      0.697      -0.004       0.006\n",
       "C(year)[T.1994]     0.0013      0.002      0.527      0.598      -0.003       0.006\n",
       "C(year)[T.1995]     0.0015      0.002      0.626      0.531      -0.003       0.006\n",
       "C(year)[T.1996]     0.0020      0.002      0.795      0.427      -0.003       0.007\n",
       "C(year)[T.1997]     0.0027      0.002      1.091      0.276      -0.002       0.008\n",
       "sb_usage            0.0009      0.002      0.487      0.626      -0.003       0.004\n",
       "speed65             0.0006      0.001      0.994      0.321      -0.001       0.002\n",
       "speed70             0.0017      0.001      2.777      0.006       0.001       0.003\n",
       "drinkage21         -0.0013      0.001     -1.280      0.201      -0.003       0.001\n",
       "ba08               -0.0019      0.000     -4.054      0.000      -0.003      -0.001\n",
       "income          -7.954e-07    5.8e-08    -13.710      0.000   -9.09e-07   -6.81e-07\n",
       "age             -5.759e-05      0.000     -0.503      0.615      -0.000       0.000\n",
       "primary             0.0014      0.001      1.887      0.060   -5.91e-05       0.003\n",
       "secondary           0.0007      0.001      1.350      0.178      -0.000       0.002\n",
       "==============================================================================\n",
       "Omnibus:                       34.599   Durbin-Watson:                   0.435\n",
       "Prob(Omnibus):                  0.000   Jarque-Bera (JB):               42.898\n",
       "Skew:                           0.552   Prob(JB):                     4.84e-10\n",
       "Kurtosis:                       3.795   Cond. No.                     1.16e+06\n",
       "==============================================================================\n",
       "\n",
       "Notes:\n",
       "[1] Standard Errors assume that the covariance matrix of the errors is correctly specified.\n",
       "[2] The condition number is large, 1.16e+06. This might indicate that there are\n",
       "strong multicollinearity or other numerical problems.\n",
       "\"\"\""
      ],
      "text/html": "<table class=\"simpletable\">\n<caption>OLS Regression Results</caption>\n<tr>\n  <th>Dep. Variable:</th>      <td>fatalityrate</td>   <th>  R-squared:         </th> <td>   0.536</td>\n</tr>\n<tr>\n  <th>Model:</th>                   <td>OLS</td>       <th>  Adj. R-squared:    </th> <td>   0.516</td>\n</tr>\n<tr>\n  <th>Method:</th>             <td>Least Squares</td>  <th>  F-statistic:       </th> <td>   26.70</td>\n</tr>\n<tr>\n  <th>Date:</th>             <td>Mon, 12 Apr 2021</td> <th>  Prob (F-statistic):</th> <td>9.74e-74</td>\n</tr>\n<tr>\n  <th>Time:</th>                 <td>09:08:04</td>     <th>  Log-Likelihood:    </th> <td>  2367.5</td>\n</tr>\n<tr>\n  <th>No. Observations:</th>      <td>   556</td>      <th>  AIC:               </th> <td>  -4687.</td>\n</tr>\n<tr>\n  <th>Df Residuals:</th>          <td>   532</td>      <th>  BIC:               </th> <td>  -4583.</td>\n</tr>\n<tr>\n  <th>Df Model:</th>              <td>    23</td>      <th>                     </th>     <td> </td>   \n</tr>\n<tr>\n  <th>Covariance Type:</th>      <td>nonrobust</td>    <th>                     </th>     <td> </td>   \n</tr>\n</table>\n<table class=\"simpletable\">\n<tr>\n         <td></td>            <th>coef</th>     <th>std err</th>      <th>t</th>      <th>P>|t|</th>  <th>[0.025</th>    <th>0.975]</th>  \n</tr>\n<tr>\n  <th>Intercept</th>       <td>    0.0354</td> <td>    0.004</td> <td>    8.092</td> <td> 0.000</td> <td>    0.027</td> <td>    0.044</td>\n</tr>\n<tr>\n  <th>C(year)[T.1984]</th> <td>    0.0022</td> <td>    0.002</td> <td>    0.919</td> <td> 0.358</td> <td>   -0.002</td> <td>    0.007</td>\n</tr>\n<tr>\n  <th>C(year)[T.1985]</th> <td>    0.0024</td> <td>    0.002</td> <td>    1.098</td> <td> 0.273</td> <td>   -0.002</td> <td>    0.007</td>\n</tr>\n<tr>\n  <th>C(year)[T.1986]</th> <td>    0.0033</td> <td>    0.002</td> <td>    1.494</td> <td> 0.136</td> <td>   -0.001</td> <td>    0.008</td>\n</tr>\n<tr>\n  <th>C(year)[T.1987]</th> <td>    0.0025</td> <td>    0.002</td> <td>    1.077</td> <td> 0.282</td> <td>   -0.002</td> <td>    0.007</td>\n</tr>\n<tr>\n  <th>C(year)[T.1988]</th> <td>    0.0027</td> <td>    0.002</td> <td>    1.149</td> <td> 0.251</td> <td>   -0.002</td> <td>    0.007</td>\n</tr>\n<tr>\n  <th>C(year)[T.1989]</th> <td>    0.0015</td> <td>    0.002</td> <td>    0.655</td> <td> 0.513</td> <td>   -0.003</td> <td>    0.006</td>\n</tr>\n<tr>\n  <th>C(year)[T.1990]</th> <td>    0.0024</td> <td>    0.002</td> <td>    1.039</td> <td> 0.299</td> <td>   -0.002</td> <td>    0.007</td>\n</tr>\n<tr>\n  <th>C(year)[T.1991]</th> <td>    0.0013</td> <td>    0.002</td> <td>    0.568</td> <td> 0.570</td> <td>   -0.003</td> <td>    0.006</td>\n</tr>\n<tr>\n  <th>C(year)[T.1992]</th> <td>    0.0005</td> <td>    0.002</td> <td>    0.216</td> <td> 0.829</td> <td>   -0.004</td> <td>    0.005</td>\n</tr>\n<tr>\n  <th>C(year)[T.1993]</th> <td>    0.0009</td> <td>    0.002</td> <td>    0.390</td> <td> 0.697</td> <td>   -0.004</td> <td>    0.006</td>\n</tr>\n<tr>\n  <th>C(year)[T.1994]</th> <td>    0.0013</td> <td>    0.002</td> <td>    0.527</td> <td> 0.598</td> <td>   -0.003</td> <td>    0.006</td>\n</tr>\n<tr>\n  <th>C(year)[T.1995]</th> <td>    0.0015</td> <td>    0.002</td> <td>    0.626</td> <td> 0.531</td> <td>   -0.003</td> <td>    0.006</td>\n</tr>\n<tr>\n  <th>C(year)[T.1996]</th> <td>    0.0020</td> <td>    0.002</td> <td>    0.795</td> <td> 0.427</td> <td>   -0.003</td> <td>    0.007</td>\n</tr>\n<tr>\n  <th>C(year)[T.1997]</th> <td>    0.0027</td> <td>    0.002</td> <td>    1.091</td> <td> 0.276</td> <td>   -0.002</td> <td>    0.008</td>\n</tr>\n<tr>\n  <th>sb_usage</th>        <td>    0.0009</td> <td>    0.002</td> <td>    0.487</td> <td> 0.626</td> <td>   -0.003</td> <td>    0.004</td>\n</tr>\n<tr>\n  <th>speed65</th>         <td>    0.0006</td> <td>    0.001</td> <td>    0.994</td> <td> 0.321</td> <td>   -0.001</td> <td>    0.002</td>\n</tr>\n<tr>\n  <th>speed70</th>         <td>    0.0017</td> <td>    0.001</td> <td>    2.777</td> <td> 0.006</td> <td>    0.001</td> <td>    0.003</td>\n</tr>\n<tr>\n  <th>drinkage21</th>      <td>   -0.0013</td> <td>    0.001</td> <td>   -1.280</td> <td> 0.201</td> <td>   -0.003</td> <td>    0.001</td>\n</tr>\n<tr>\n  <th>ba08</th>            <td>   -0.0019</td> <td>    0.000</td> <td>   -4.054</td> <td> 0.000</td> <td>   -0.003</td> <td>   -0.001</td>\n</tr>\n<tr>\n  <th>income</th>          <td>-7.954e-07</td> <td>  5.8e-08</td> <td>  -13.710</td> <td> 0.000</td> <td>-9.09e-07</td> <td>-6.81e-07</td>\n</tr>\n<tr>\n  <th>age</th>             <td>-5.759e-05</td> <td>    0.000</td> <td>   -0.503</td> <td> 0.615</td> <td>   -0.000</td> <td>    0.000</td>\n</tr>\n<tr>\n  <th>primary</th>         <td>    0.0014</td> <td>    0.001</td> <td>    1.887</td> <td> 0.060</td> <td>-5.91e-05</td> <td>    0.003</td>\n</tr>\n<tr>\n  <th>secondary</th>       <td>    0.0007</td> <td>    0.001</td> <td>    1.350</td> <td> 0.178</td> <td>   -0.000</td> <td>    0.002</td>\n</tr>\n</table>\n<table class=\"simpletable\">\n<tr>\n  <th>Omnibus:</th>       <td>34.599</td> <th>  Durbin-Watson:     </th> <td>   0.435</td>\n</tr>\n<tr>\n  <th>Prob(Omnibus):</th> <td> 0.000</td> <th>  Jarque-Bera (JB):  </th> <td>  42.898</td>\n</tr>\n<tr>\n  <th>Skew:</th>          <td> 0.552</td> <th>  Prob(JB):          </th> <td>4.84e-10</td>\n</tr>\n<tr>\n  <th>Kurtosis:</th>      <td> 3.795</td> <th>  Cond. No.          </th> <td>1.16e+06</td>\n</tr>\n</table><br/><br/>Notes:<br/>[1] Standard Errors assume that the covariance matrix of the errors is correctly specified.<br/>[2] The condition number is large, 1.16e+06. This might indicate that there are<br/>strong multicollinearity or other numerical problems."
     },
     "metadata": {},
     "execution_count": 8
    }
   ],
   "source": [
    "results_ols_no_state_fe = smf.ols('fatalityrate ~ sb_usage + speed65 + speed70 + drinkage21 + ba08 + income + age + primary + secondary + C(year)', data=seatbelt_df).fit()\n",
    "print(' ')\n",
    "print('sb_usage mean:',\n",
    "      results_ols_no_state_fe.params['sb_usage'])\n",
    "print('sb_usage confidence interval:',\n",
    "      results_ols_no_state_fe.conf_int()[0]['sb_usage'], \n",
    "      results_ols_no_state_fe.conf_int()[1]['sb_usage'])\n",
    "print(' ')\n",
    "results_ols_no_state_fe.summary()"
   ]
  },
  {
   "cell_type": "code",
   "execution_count": 9,
   "metadata": {},
   "outputs": [
    {
     "output_type": "stream",
     "name": "stdout",
     "text": [
      " \nsb_usage mean: 0.0008734453528687364\nsb_usage confidence interval: -0.003165679530186717 0.00491257023592419\n \n"
     ]
    },
    {
     "output_type": "execute_result",
     "data": {
      "text/plain": [
       "<class 'statsmodels.iolib.summary.Summary'>\n",
       "\"\"\"\n",
       "                            OLS Regression Results                            \n",
       "==============================================================================\n",
       "Dep. Variable:           fatalityrate   R-squared:                       0.536\n",
       "Model:                            OLS   Adj. R-squared:                  0.516\n",
       "Method:                 Least Squares   F-statistic:                     25.55\n",
       "Date:                Mon, 12 Apr 2021   Prob (F-statistic):           4.04e-71\n",
       "Time:                        09:08:05   Log-Likelihood:                 2367.5\n",
       "No. Observations:                 556   AIC:                            -4687.\n",
       "Df Residuals:                     532   BIC:                            -4583.\n",
       "Df Model:                          23                                         \n",
       "Covariance Type:                  HC0                                         \n",
       "===================================================================================\n",
       "                      coef    std err          z      P>|z|      [0.025      0.975]\n",
       "-----------------------------------------------------------------------------------\n",
       "Intercept           0.0354      0.006      5.914      0.000       0.024       0.047\n",
       "C(year)[T.1984]     0.0022      0.002      1.011      0.312      -0.002       0.006\n",
       "C(year)[T.1985]     0.0024      0.002      1.091      0.275      -0.002       0.007\n",
       "C(year)[T.1986]     0.0033      0.002      1.462      0.144      -0.001       0.008\n",
       "C(year)[T.1987]     0.0025      0.002      1.048      0.295      -0.002       0.007\n",
       "C(year)[T.1988]     0.0027      0.002      1.112      0.266      -0.002       0.007\n",
       "C(year)[T.1989]     0.0015      0.002      0.646      0.519      -0.003       0.006\n",
       "C(year)[T.1990]     0.0024      0.002      0.994      0.320      -0.002       0.007\n",
       "C(year)[T.1991]     0.0013      0.002      0.546      0.585      -0.003       0.006\n",
       "C(year)[T.1992]     0.0005      0.002      0.207      0.836      -0.004       0.005\n",
       "C(year)[T.1993]     0.0009      0.003      0.372      0.710      -0.004       0.006\n",
       "C(year)[T.1994]     0.0013      0.003      0.507      0.612      -0.004       0.006\n",
       "C(year)[T.1995]     0.0015      0.003      0.594      0.552      -0.004       0.007\n",
       "C(year)[T.1996]     0.0020      0.003      0.759      0.448      -0.003       0.007\n",
       "C(year)[T.1997]     0.0027      0.003      1.037      0.300      -0.002       0.008\n",
       "sb_usage            0.0009      0.002      0.424      0.672      -0.003       0.005\n",
       "speed65             0.0006      0.001      0.948      0.343      -0.001       0.002\n",
       "speed70             0.0017      0.001      3.100      0.002       0.001       0.003\n",
       "drinkage21         -0.0013      0.001     -1.146      0.252      -0.004       0.001\n",
       "ba08               -0.0019      0.000     -5.149      0.000      -0.003      -0.001\n",
       "income          -7.954e-07   7.33e-08    -10.845      0.000   -9.39e-07   -6.52e-07\n",
       "age             -5.759e-05      0.000     -0.348      0.728      -0.000       0.000\n",
       "primary             0.0014      0.001      1.891      0.059    -5.3e-05       0.003\n",
       "secondary           0.0007      0.001      1.272      0.203      -0.000       0.002\n",
       "==============================================================================\n",
       "Omnibus:                       34.599   Durbin-Watson:                   0.435\n",
       "Prob(Omnibus):                  0.000   Jarque-Bera (JB):               42.898\n",
       "Skew:                           0.552   Prob(JB):                     4.84e-10\n",
       "Kurtosis:                       3.795   Cond. No.                     1.16e+06\n",
       "==============================================================================\n",
       "\n",
       "Notes:\n",
       "[1] Standard Errors are heteroscedasticity robust (HC0)\n",
       "[2] The condition number is large, 1.16e+06. This might indicate that there are\n",
       "strong multicollinearity or other numerical problems.\n",
       "\"\"\""
      ],
      "text/html": "<table class=\"simpletable\">\n<caption>OLS Regression Results</caption>\n<tr>\n  <th>Dep. Variable:</th>      <td>fatalityrate</td>   <th>  R-squared:         </th> <td>   0.536</td>\n</tr>\n<tr>\n  <th>Model:</th>                   <td>OLS</td>       <th>  Adj. R-squared:    </th> <td>   0.516</td>\n</tr>\n<tr>\n  <th>Method:</th>             <td>Least Squares</td>  <th>  F-statistic:       </th> <td>   25.55</td>\n</tr>\n<tr>\n  <th>Date:</th>             <td>Mon, 12 Apr 2021</td> <th>  Prob (F-statistic):</th> <td>4.04e-71</td>\n</tr>\n<tr>\n  <th>Time:</th>                 <td>09:08:05</td>     <th>  Log-Likelihood:    </th> <td>  2367.5</td>\n</tr>\n<tr>\n  <th>No. Observations:</th>      <td>   556</td>      <th>  AIC:               </th> <td>  -4687.</td>\n</tr>\n<tr>\n  <th>Df Residuals:</th>          <td>   532</td>      <th>  BIC:               </th> <td>  -4583.</td>\n</tr>\n<tr>\n  <th>Df Model:</th>              <td>    23</td>      <th>                     </th>     <td> </td>   \n</tr>\n<tr>\n  <th>Covariance Type:</th>         <td>HC0</td>       <th>                     </th>     <td> </td>   \n</tr>\n</table>\n<table class=\"simpletable\">\n<tr>\n         <td></td>            <th>coef</th>     <th>std err</th>      <th>z</th>      <th>P>|z|</th>  <th>[0.025</th>    <th>0.975]</th>  \n</tr>\n<tr>\n  <th>Intercept</th>       <td>    0.0354</td> <td>    0.006</td> <td>    5.914</td> <td> 0.000</td> <td>    0.024</td> <td>    0.047</td>\n</tr>\n<tr>\n  <th>C(year)[T.1984]</th> <td>    0.0022</td> <td>    0.002</td> <td>    1.011</td> <td> 0.312</td> <td>   -0.002</td> <td>    0.006</td>\n</tr>\n<tr>\n  <th>C(year)[T.1985]</th> <td>    0.0024</td> <td>    0.002</td> <td>    1.091</td> <td> 0.275</td> <td>   -0.002</td> <td>    0.007</td>\n</tr>\n<tr>\n  <th>C(year)[T.1986]</th> <td>    0.0033</td> <td>    0.002</td> <td>    1.462</td> <td> 0.144</td> <td>   -0.001</td> <td>    0.008</td>\n</tr>\n<tr>\n  <th>C(year)[T.1987]</th> <td>    0.0025</td> <td>    0.002</td> <td>    1.048</td> <td> 0.295</td> <td>   -0.002</td> <td>    0.007</td>\n</tr>\n<tr>\n  <th>C(year)[T.1988]</th> <td>    0.0027</td> <td>    0.002</td> <td>    1.112</td> <td> 0.266</td> <td>   -0.002</td> <td>    0.007</td>\n</tr>\n<tr>\n  <th>C(year)[T.1989]</th> <td>    0.0015</td> <td>    0.002</td> <td>    0.646</td> <td> 0.519</td> <td>   -0.003</td> <td>    0.006</td>\n</tr>\n<tr>\n  <th>C(year)[T.1990]</th> <td>    0.0024</td> <td>    0.002</td> <td>    0.994</td> <td> 0.320</td> <td>   -0.002</td> <td>    0.007</td>\n</tr>\n<tr>\n  <th>C(year)[T.1991]</th> <td>    0.0013</td> <td>    0.002</td> <td>    0.546</td> <td> 0.585</td> <td>   -0.003</td> <td>    0.006</td>\n</tr>\n<tr>\n  <th>C(year)[T.1992]</th> <td>    0.0005</td> <td>    0.002</td> <td>    0.207</td> <td> 0.836</td> <td>   -0.004</td> <td>    0.005</td>\n</tr>\n<tr>\n  <th>C(year)[T.1993]</th> <td>    0.0009</td> <td>    0.003</td> <td>    0.372</td> <td> 0.710</td> <td>   -0.004</td> <td>    0.006</td>\n</tr>\n<tr>\n  <th>C(year)[T.1994]</th> <td>    0.0013</td> <td>    0.003</td> <td>    0.507</td> <td> 0.612</td> <td>   -0.004</td> <td>    0.006</td>\n</tr>\n<tr>\n  <th>C(year)[T.1995]</th> <td>    0.0015</td> <td>    0.003</td> <td>    0.594</td> <td> 0.552</td> <td>   -0.004</td> <td>    0.007</td>\n</tr>\n<tr>\n  <th>C(year)[T.1996]</th> <td>    0.0020</td> <td>    0.003</td> <td>    0.759</td> <td> 0.448</td> <td>   -0.003</td> <td>    0.007</td>\n</tr>\n<tr>\n  <th>C(year)[T.1997]</th> <td>    0.0027</td> <td>    0.003</td> <td>    1.037</td> <td> 0.300</td> <td>   -0.002</td> <td>    0.008</td>\n</tr>\n<tr>\n  <th>sb_usage</th>        <td>    0.0009</td> <td>    0.002</td> <td>    0.424</td> <td> 0.672</td> <td>   -0.003</td> <td>    0.005</td>\n</tr>\n<tr>\n  <th>speed65</th>         <td>    0.0006</td> <td>    0.001</td> <td>    0.948</td> <td> 0.343</td> <td>   -0.001</td> <td>    0.002</td>\n</tr>\n<tr>\n  <th>speed70</th>         <td>    0.0017</td> <td>    0.001</td> <td>    3.100</td> <td> 0.002</td> <td>    0.001</td> <td>    0.003</td>\n</tr>\n<tr>\n  <th>drinkage21</th>      <td>   -0.0013</td> <td>    0.001</td> <td>   -1.146</td> <td> 0.252</td> <td>   -0.004</td> <td>    0.001</td>\n</tr>\n<tr>\n  <th>ba08</th>            <td>   -0.0019</td> <td>    0.000</td> <td>   -5.149</td> <td> 0.000</td> <td>   -0.003</td> <td>   -0.001</td>\n</tr>\n<tr>\n  <th>income</th>          <td>-7.954e-07</td> <td> 7.33e-08</td> <td>  -10.845</td> <td> 0.000</td> <td>-9.39e-07</td> <td>-6.52e-07</td>\n</tr>\n<tr>\n  <th>age</th>             <td>-5.759e-05</td> <td>    0.000</td> <td>   -0.348</td> <td> 0.728</td> <td>   -0.000</td> <td>    0.000</td>\n</tr>\n<tr>\n  <th>primary</th>         <td>    0.0014</td> <td>    0.001</td> <td>    1.891</td> <td> 0.059</td> <td> -5.3e-05</td> <td>    0.003</td>\n</tr>\n<tr>\n  <th>secondary</th>       <td>    0.0007</td> <td>    0.001</td> <td>    1.272</td> <td> 0.203</td> <td>   -0.000</td> <td>    0.002</td>\n</tr>\n</table>\n<table class=\"simpletable\">\n<tr>\n  <th>Omnibus:</th>       <td>34.599</td> <th>  Durbin-Watson:     </th> <td>   0.435</td>\n</tr>\n<tr>\n  <th>Prob(Omnibus):</th> <td> 0.000</td> <th>  Jarque-Bera (JB):  </th> <td>  42.898</td>\n</tr>\n<tr>\n  <th>Skew:</th>          <td> 0.552</td> <th>  Prob(JB):          </th> <td>4.84e-10</td>\n</tr>\n<tr>\n  <th>Kurtosis:</th>      <td> 3.795</td> <th>  Cond. No.          </th> <td>1.16e+06</td>\n</tr>\n</table><br/><br/>Notes:<br/>[1] Standard Errors are heteroscedasticity robust (HC0)<br/>[2] The condition number is large, 1.16e+06. This might indicate that there are<br/>strong multicollinearity or other numerical problems."
     },
     "metadata": {},
     "execution_count": 9
    }
   ],
   "source": [
    "results_ols_hc0_no_state_fe = smf.ols('fatalityrate ~ sb_usage + speed65 + speed70 + \\\n",
    "                                        drinkage21 + ba08 + income + age + primary + \\\n",
    "                                        secondary + C(year)', data=seatbelt_df).fit(cov_type='HC0')\n",
    "print(' ')\n",
    "print('sb_usage mean:',\n",
    "      results_ols_hc0_no_state_fe.params['sb_usage'])\n",
    "print('sb_usage confidence interval:',\n",
    "      results_ols_hc0_no_state_fe.conf_int()[0]['sb_usage'],\n",
    "      results_ols_hc0_no_state_fe.conf_int()[1]['sb_usage'])\n",
    "print(' ')\n",
    "results_ols_hc0_no_state_fe.summary()"
   ]
  },
  {
   "cell_type": "code",
   "execution_count": 10,
   "metadata": {},
   "outputs": [
    {
     "output_type": "stream",
     "name": "stdout",
     "text": [
      " \nsb_usage mean: -0.0034530603654962877\nsb_usage confidence interval: -0.00595934960909234 -0.0009467711219002355\n \n"
     ]
    },
    {
     "output_type": "execute_result",
     "data": {
      "text/plain": [
       "<class 'statsmodels.iolib.summary.Summary'>\n",
       "\"\"\"\n",
       "                            OLS Regression Results                            \n",
       "==============================================================================\n",
       "Dep. Variable:           fatalityrate   R-squared:                       0.912\n",
       "Model:                            OLS   Adj. R-squared:                  0.898\n",
       "Method:                 Least Squares   F-statistic:                     68.11\n",
       "Date:                Mon, 12 Apr 2021   Prob (F-statistic):          3.43e-211\n",
       "Time:                        09:08:05   Log-Likelihood:                 2828.6\n",
       "No. Observations:                 556   AIC:                            -5509.\n",
       "Df Residuals:                     482   BIC:                            -5189.\n",
       "Df Model:                          73                                         \n",
       "Covariance Type:            nonrobust                                         \n",
       "===================================================================================\n",
       "                      coef    std err          t      P>|t|      [0.025      0.975]\n",
       "-----------------------------------------------------------------------------------\n",
       "Intercept          -0.0343      0.014     -2.429      0.015      -0.062      -0.007\n",
       "C(year)[T.1984]    -0.0002      0.001     -0.197      0.844      -0.002       0.002\n",
       "C(year)[T.1985]    -0.0009      0.001     -0.873      0.383      -0.003       0.001\n",
       "C(year)[T.1986]    -0.0006      0.001     -0.553      0.580      -0.003       0.002\n",
       "C(year)[T.1987]    -0.0012      0.001     -0.954      0.341      -0.004       0.001\n",
       "C(year)[T.1988]    -0.0025      0.001     -1.726      0.085      -0.005       0.000\n",
       "C(year)[T.1989]    -0.0049      0.002     -3.188      0.002      -0.008      -0.002\n",
       "C(year)[T.1990]    -0.0062      0.002     -3.763      0.000      -0.009      -0.003\n",
       "C(year)[T.1991]    -0.0077      0.002     -4.456      0.000      -0.011      -0.004\n",
       "C(year)[T.1992]    -0.0098      0.002     -5.242      0.000      -0.013      -0.006\n",
       "C(year)[T.1993]    -0.0104      0.002     -5.257      0.000      -0.014      -0.007\n",
       "C(year)[T.1994]    -0.0113      0.002     -5.358      0.000      -0.015      -0.007\n",
       "C(year)[T.1995]    -0.0122      0.002     -5.303      0.000      -0.017      -0.008\n",
       "C(year)[T.1996]    -0.0134      0.002     -5.464      0.000      -0.018      -0.009\n",
       "C(year)[T.1997]    -0.0142      0.003     -5.446      0.000      -0.019      -0.009\n",
       "C(fips)[T.2]        0.0079      0.002      3.607      0.000       0.004       0.012\n",
       "C(fips)[T.4]        0.0013      0.001      1.719      0.086      -0.000       0.003\n",
       "C(fips)[T.5]        0.0021      0.001      2.808      0.005       0.001       0.003\n",
       "C(fips)[T.6]       -0.0047      0.001     -4.082      0.000      -0.007      -0.002\n",
       "C(fips)[T.8]       -0.0046      0.001     -4.398      0.000      -0.007      -0.003\n",
       "C(fips)[T.9]       -0.0191      0.002     -9.107      0.000      -0.023      -0.015\n",
       "C(fips)[T.10]      -0.0083      0.001     -7.048      0.000      -0.011      -0.006\n",
       "C(fips)[T.11]      -0.0139      0.002     -6.383      0.000      -0.018      -0.010\n",
       "C(fips)[T.12]      -0.0065      0.002     -3.893      0.000      -0.010      -0.003\n",
       "C(fips)[T.13]      -0.0024      0.001     -2.577      0.010      -0.004      -0.001\n",
       "C(fips)[T.15]      -0.0078      0.001     -6.705      0.000      -0.010      -0.006\n",
       "C(fips)[T.16]       0.0039      0.001      4.044      0.000       0.002       0.006\n",
       "C(fips)[T.17]      -0.0079      0.001     -7.901      0.000      -0.010      -0.006\n",
       "C(fips)[T.18]      -0.0068      0.001     -9.575      0.000      -0.008      -0.005\n",
       "C(fips)[T.19]      -0.0067      0.001     -6.200      0.000      -0.009      -0.005\n",
       "C(fips)[T.20]      -0.0057      0.001     -7.331      0.000      -0.007      -0.004\n",
       "C(fips)[T.21]      -0.0013      0.001     -2.110      0.035      -0.003   -9.14e-05\n",
       "C(fips)[T.22]       0.0041      0.001      4.109      0.000       0.002       0.006\n",
       "C(fips)[T.23]      -0.0084      0.001     -9.628      0.000      -0.010      -0.007\n",
       "C(fips)[T.24]      -0.0091      0.001     -7.725      0.000      -0.011      -0.007\n",
       "C(fips)[T.25]      -0.0179      0.001    -12.460      0.000      -0.021      -0.015\n",
       "C(fips)[T.26]      -0.0062      0.001     -7.470      0.000      -0.008      -0.005\n",
       "C(fips)[T.27]      -0.0109      0.001    -12.426      0.000      -0.013      -0.009\n",
       "C(fips)[T.28]       0.0087      0.001      8.328      0.000       0.007       0.011\n",
       "C(fips)[T.29]      -0.0048      0.001     -5.568      0.000      -0.006      -0.003\n",
       "C(fips)[T.30]       0.0010      0.001      1.589      0.113      -0.000       0.002\n",
       "C(fips)[T.31]      -0.0072      0.001    -10.318      0.000      -0.009      -0.006\n",
       "C(fips)[T.32]       0.0009      0.001      0.879      0.380      -0.001       0.003\n",
       "C(fips)[T.33]      -0.0114      0.001    -10.951      0.000      -0.013      -0.009\n",
       "C(fips)[T.34]      -0.0163      0.002    -10.110      0.000      -0.019      -0.013\n",
       "C(fips)[T.35]       0.0062      0.001      4.604      0.000       0.004       0.009\n",
       "C(fips)[T.36]      -0.0111      0.001     -7.758      0.000      -0.014      -0.008\n",
       "C(fips)[T.37]      -0.0018      0.001     -1.874      0.062      -0.004    8.81e-05\n",
       "C(fips)[T.38]      -0.0088      0.001    -11.576      0.000      -0.010      -0.007\n",
       "C(fips)[T.39]      -0.0087      0.001    -11.522      0.000      -0.010      -0.007\n",
       "C(fips)[T.40]      -0.0056      0.001     -8.432      0.000      -0.007      -0.004\n",
       "C(fips)[T.41]      -0.0048      0.001     -4.590      0.000      -0.007      -0.003\n",
       "C(fips)[T.42]      -0.0105      0.001     -8.432      0.000      -0.013      -0.008\n",
       "C(fips)[T.44]      -0.0170      0.001    -14.923      0.000      -0.019      -0.015\n",
       "C(fips)[T.45]       0.0035      0.001      4.446      0.000       0.002       0.005\n",
       "C(fips)[T.46]      -0.0025      0.001     -3.453      0.001      -0.004      -0.001\n",
       "C(fips)[T.47]      -0.0009      0.001     -1.206      0.228      -0.002       0.001\n",
       "C(fips)[T.48]      -0.0011      0.001     -0.805      0.421      -0.004       0.002\n",
       "C(fips)[T.49]       0.0052      0.002      2.309      0.021       0.001       0.010\n",
       "C(fips)[T.50]      -0.0064      0.001     -8.741      0.000      -0.008      -0.005\n",
       "C(fips)[T.51]      -0.0091      0.001     -9.870      0.000      -0.011      -0.007\n",
       "C(fips)[T.53]      -0.0090      0.001     -9.715      0.000      -0.011      -0.007\n",
       "C(fips)[T.54]      -0.0012      0.001     -1.191      0.234      -0.003       0.001\n",
       "C(fips)[T.55]      -0.0088      0.001    -11.273      0.000      -0.010      -0.007\n",
       "C(fips)[T.56]      -0.0005      0.001     -0.503      0.615      -0.002       0.001\n",
       "sb_usage           -0.0035      0.001     -2.707      0.007      -0.006      -0.001\n",
       "speed65            -0.0005      0.000     -1.234      0.218      -0.001       0.000\n",
       "speed70             0.0011      0.000      3.240      0.001       0.000       0.002\n",
       "drinkage21         -0.0011      0.001     -1.936      0.053      -0.002    1.58e-05\n",
       "ba08               -0.0008      0.000     -2.203      0.028      -0.001    -8.3e-05\n",
       "income           4.853e-07   1.47e-07      3.301      0.001    1.96e-07    7.74e-07\n",
       "age                 0.0017      0.000      4.361      0.000       0.001       0.003\n",
       "primary             0.0004      0.001      0.473      0.637      -0.001       0.002\n",
       "secondary          -0.0001      0.000     -0.409      0.683      -0.001       0.001\n",
       "==============================================================================\n",
       "Omnibus:                       66.332   Durbin-Watson:                   1.396\n",
       "Prob(Omnibus):                  0.000   Jarque-Bera (JB):              160.156\n",
       "Skew:                           0.631   Prob(JB):                     1.67e-35\n",
       "Kurtosis:                       5.306   Cond. No.                     4.48e+06\n",
       "==============================================================================\n",
       "\n",
       "Notes:\n",
       "[1] Standard Errors assume that the covariance matrix of the errors is correctly specified.\n",
       "[2] The condition number is large, 4.48e+06. This might indicate that there are\n",
       "strong multicollinearity or other numerical problems.\n",
       "\"\"\""
      ],
      "text/html": "<table class=\"simpletable\">\n<caption>OLS Regression Results</caption>\n<tr>\n  <th>Dep. Variable:</th>      <td>fatalityrate</td>   <th>  R-squared:         </th> <td>   0.912</td> \n</tr>\n<tr>\n  <th>Model:</th>                   <td>OLS</td>       <th>  Adj. R-squared:    </th> <td>   0.898</td> \n</tr>\n<tr>\n  <th>Method:</th>             <td>Least Squares</td>  <th>  F-statistic:       </th> <td>   68.11</td> \n</tr>\n<tr>\n  <th>Date:</th>             <td>Mon, 12 Apr 2021</td> <th>  Prob (F-statistic):</th> <td>3.43e-211</td>\n</tr>\n<tr>\n  <th>Time:</th>                 <td>09:08:05</td>     <th>  Log-Likelihood:    </th> <td>  2828.6</td> \n</tr>\n<tr>\n  <th>No. Observations:</th>      <td>   556</td>      <th>  AIC:               </th> <td>  -5509.</td> \n</tr>\n<tr>\n  <th>Df Residuals:</th>          <td>   482</td>      <th>  BIC:               </th> <td>  -5189.</td> \n</tr>\n<tr>\n  <th>Df Model:</th>              <td>    73</td>      <th>                     </th>     <td> </td>    \n</tr>\n<tr>\n  <th>Covariance Type:</th>      <td>nonrobust</td>    <th>                     </th>     <td> </td>    \n</tr>\n</table>\n<table class=\"simpletable\">\n<tr>\n         <td></td>            <th>coef</th>     <th>std err</th>      <th>t</th>      <th>P>|t|</th>  <th>[0.025</th>    <th>0.975]</th>  \n</tr>\n<tr>\n  <th>Intercept</th>       <td>   -0.0343</td> <td>    0.014</td> <td>   -2.429</td> <td> 0.015</td> <td>   -0.062</td> <td>   -0.007</td>\n</tr>\n<tr>\n  <th>C(year)[T.1984]</th> <td>   -0.0002</td> <td>    0.001</td> <td>   -0.197</td> <td> 0.844</td> <td>   -0.002</td> <td>    0.002</td>\n</tr>\n<tr>\n  <th>C(year)[T.1985]</th> <td>   -0.0009</td> <td>    0.001</td> <td>   -0.873</td> <td> 0.383</td> <td>   -0.003</td> <td>    0.001</td>\n</tr>\n<tr>\n  <th>C(year)[T.1986]</th> <td>   -0.0006</td> <td>    0.001</td> <td>   -0.553</td> <td> 0.580</td> <td>   -0.003</td> <td>    0.002</td>\n</tr>\n<tr>\n  <th>C(year)[T.1987]</th> <td>   -0.0012</td> <td>    0.001</td> <td>   -0.954</td> <td> 0.341</td> <td>   -0.004</td> <td>    0.001</td>\n</tr>\n<tr>\n  <th>C(year)[T.1988]</th> <td>   -0.0025</td> <td>    0.001</td> <td>   -1.726</td> <td> 0.085</td> <td>   -0.005</td> <td>    0.000</td>\n</tr>\n<tr>\n  <th>C(year)[T.1989]</th> <td>   -0.0049</td> <td>    0.002</td> <td>   -3.188</td> <td> 0.002</td> <td>   -0.008</td> <td>   -0.002</td>\n</tr>\n<tr>\n  <th>C(year)[T.1990]</th> <td>   -0.0062</td> <td>    0.002</td> <td>   -3.763</td> <td> 0.000</td> <td>   -0.009</td> <td>   -0.003</td>\n</tr>\n<tr>\n  <th>C(year)[T.1991]</th> <td>   -0.0077</td> <td>    0.002</td> <td>   -4.456</td> <td> 0.000</td> <td>   -0.011</td> <td>   -0.004</td>\n</tr>\n<tr>\n  <th>C(year)[T.1992]</th> <td>   -0.0098</td> <td>    0.002</td> <td>   -5.242</td> <td> 0.000</td> <td>   -0.013</td> <td>   -0.006</td>\n</tr>\n<tr>\n  <th>C(year)[T.1993]</th> <td>   -0.0104</td> <td>    0.002</td> <td>   -5.257</td> <td> 0.000</td> <td>   -0.014</td> <td>   -0.007</td>\n</tr>\n<tr>\n  <th>C(year)[T.1994]</th> <td>   -0.0113</td> <td>    0.002</td> <td>   -5.358</td> <td> 0.000</td> <td>   -0.015</td> <td>   -0.007</td>\n</tr>\n<tr>\n  <th>C(year)[T.1995]</th> <td>   -0.0122</td> <td>    0.002</td> <td>   -5.303</td> <td> 0.000</td> <td>   -0.017</td> <td>   -0.008</td>\n</tr>\n<tr>\n  <th>C(year)[T.1996]</th> <td>   -0.0134</td> <td>    0.002</td> <td>   -5.464</td> <td> 0.000</td> <td>   -0.018</td> <td>   -0.009</td>\n</tr>\n<tr>\n  <th>C(year)[T.1997]</th> <td>   -0.0142</td> <td>    0.003</td> <td>   -5.446</td> <td> 0.000</td> <td>   -0.019</td> <td>   -0.009</td>\n</tr>\n<tr>\n  <th>C(fips)[T.2]</th>    <td>    0.0079</td> <td>    0.002</td> <td>    3.607</td> <td> 0.000</td> <td>    0.004</td> <td>    0.012</td>\n</tr>\n<tr>\n  <th>C(fips)[T.4]</th>    <td>    0.0013</td> <td>    0.001</td> <td>    1.719</td> <td> 0.086</td> <td>   -0.000</td> <td>    0.003</td>\n</tr>\n<tr>\n  <th>C(fips)[T.5]</th>    <td>    0.0021</td> <td>    0.001</td> <td>    2.808</td> <td> 0.005</td> <td>    0.001</td> <td>    0.003</td>\n</tr>\n<tr>\n  <th>C(fips)[T.6]</th>    <td>   -0.0047</td> <td>    0.001</td> <td>   -4.082</td> <td> 0.000</td> <td>   -0.007</td> <td>   -0.002</td>\n</tr>\n<tr>\n  <th>C(fips)[T.8]</th>    <td>   -0.0046</td> <td>    0.001</td> <td>   -4.398</td> <td> 0.000</td> <td>   -0.007</td> <td>   -0.003</td>\n</tr>\n<tr>\n  <th>C(fips)[T.9]</th>    <td>   -0.0191</td> <td>    0.002</td> <td>   -9.107</td> <td> 0.000</td> <td>   -0.023</td> <td>   -0.015</td>\n</tr>\n<tr>\n  <th>C(fips)[T.10]</th>   <td>   -0.0083</td> <td>    0.001</td> <td>   -7.048</td> <td> 0.000</td> <td>   -0.011</td> <td>   -0.006</td>\n</tr>\n<tr>\n  <th>C(fips)[T.11]</th>   <td>   -0.0139</td> <td>    0.002</td> <td>   -6.383</td> <td> 0.000</td> <td>   -0.018</td> <td>   -0.010</td>\n</tr>\n<tr>\n  <th>C(fips)[T.12]</th>   <td>   -0.0065</td> <td>    0.002</td> <td>   -3.893</td> <td> 0.000</td> <td>   -0.010</td> <td>   -0.003</td>\n</tr>\n<tr>\n  <th>C(fips)[T.13]</th>   <td>   -0.0024</td> <td>    0.001</td> <td>   -2.577</td> <td> 0.010</td> <td>   -0.004</td> <td>   -0.001</td>\n</tr>\n<tr>\n  <th>C(fips)[T.15]</th>   <td>   -0.0078</td> <td>    0.001</td> <td>   -6.705</td> <td> 0.000</td> <td>   -0.010</td> <td>   -0.006</td>\n</tr>\n<tr>\n  <th>C(fips)[T.16]</th>   <td>    0.0039</td> <td>    0.001</td> <td>    4.044</td> <td> 0.000</td> <td>    0.002</td> <td>    0.006</td>\n</tr>\n<tr>\n  <th>C(fips)[T.17]</th>   <td>   -0.0079</td> <td>    0.001</td> <td>   -7.901</td> <td> 0.000</td> <td>   -0.010</td> <td>   -0.006</td>\n</tr>\n<tr>\n  <th>C(fips)[T.18]</th>   <td>   -0.0068</td> <td>    0.001</td> <td>   -9.575</td> <td> 0.000</td> <td>   -0.008</td> <td>   -0.005</td>\n</tr>\n<tr>\n  <th>C(fips)[T.19]</th>   <td>   -0.0067</td> <td>    0.001</td> <td>   -6.200</td> <td> 0.000</td> <td>   -0.009</td> <td>   -0.005</td>\n</tr>\n<tr>\n  <th>C(fips)[T.20]</th>   <td>   -0.0057</td> <td>    0.001</td> <td>   -7.331</td> <td> 0.000</td> <td>   -0.007</td> <td>   -0.004</td>\n</tr>\n<tr>\n  <th>C(fips)[T.21]</th>   <td>   -0.0013</td> <td>    0.001</td> <td>   -2.110</td> <td> 0.035</td> <td>   -0.003</td> <td>-9.14e-05</td>\n</tr>\n<tr>\n  <th>C(fips)[T.22]</th>   <td>    0.0041</td> <td>    0.001</td> <td>    4.109</td> <td> 0.000</td> <td>    0.002</td> <td>    0.006</td>\n</tr>\n<tr>\n  <th>C(fips)[T.23]</th>   <td>   -0.0084</td> <td>    0.001</td> <td>   -9.628</td> <td> 0.000</td> <td>   -0.010</td> <td>   -0.007</td>\n</tr>\n<tr>\n  <th>C(fips)[T.24]</th>   <td>   -0.0091</td> <td>    0.001</td> <td>   -7.725</td> <td> 0.000</td> <td>   -0.011</td> <td>   -0.007</td>\n</tr>\n<tr>\n  <th>C(fips)[T.25]</th>   <td>   -0.0179</td> <td>    0.001</td> <td>  -12.460</td> <td> 0.000</td> <td>   -0.021</td> <td>   -0.015</td>\n</tr>\n<tr>\n  <th>C(fips)[T.26]</th>   <td>   -0.0062</td> <td>    0.001</td> <td>   -7.470</td> <td> 0.000</td> <td>   -0.008</td> <td>   -0.005</td>\n</tr>\n<tr>\n  <th>C(fips)[T.27]</th>   <td>   -0.0109</td> <td>    0.001</td> <td>  -12.426</td> <td> 0.000</td> <td>   -0.013</td> <td>   -0.009</td>\n</tr>\n<tr>\n  <th>C(fips)[T.28]</th>   <td>    0.0087</td> <td>    0.001</td> <td>    8.328</td> <td> 0.000</td> <td>    0.007</td> <td>    0.011</td>\n</tr>\n<tr>\n  <th>C(fips)[T.29]</th>   <td>   -0.0048</td> <td>    0.001</td> <td>   -5.568</td> <td> 0.000</td> <td>   -0.006</td> <td>   -0.003</td>\n</tr>\n<tr>\n  <th>C(fips)[T.30]</th>   <td>    0.0010</td> <td>    0.001</td> <td>    1.589</td> <td> 0.113</td> <td>   -0.000</td> <td>    0.002</td>\n</tr>\n<tr>\n  <th>C(fips)[T.31]</th>   <td>   -0.0072</td> <td>    0.001</td> <td>  -10.318</td> <td> 0.000</td> <td>   -0.009</td> <td>   -0.006</td>\n</tr>\n<tr>\n  <th>C(fips)[T.32]</th>   <td>    0.0009</td> <td>    0.001</td> <td>    0.879</td> <td> 0.380</td> <td>   -0.001</td> <td>    0.003</td>\n</tr>\n<tr>\n  <th>C(fips)[T.33]</th>   <td>   -0.0114</td> <td>    0.001</td> <td>  -10.951</td> <td> 0.000</td> <td>   -0.013</td> <td>   -0.009</td>\n</tr>\n<tr>\n  <th>C(fips)[T.34]</th>   <td>   -0.0163</td> <td>    0.002</td> <td>  -10.110</td> <td> 0.000</td> <td>   -0.019</td> <td>   -0.013</td>\n</tr>\n<tr>\n  <th>C(fips)[T.35]</th>   <td>    0.0062</td> <td>    0.001</td> <td>    4.604</td> <td> 0.000</td> <td>    0.004</td> <td>    0.009</td>\n</tr>\n<tr>\n  <th>C(fips)[T.36]</th>   <td>   -0.0111</td> <td>    0.001</td> <td>   -7.758</td> <td> 0.000</td> <td>   -0.014</td> <td>   -0.008</td>\n</tr>\n<tr>\n  <th>C(fips)[T.37]</th>   <td>   -0.0018</td> <td>    0.001</td> <td>   -1.874</td> <td> 0.062</td> <td>   -0.004</td> <td> 8.81e-05</td>\n</tr>\n<tr>\n  <th>C(fips)[T.38]</th>   <td>   -0.0088</td> <td>    0.001</td> <td>  -11.576</td> <td> 0.000</td> <td>   -0.010</td> <td>   -0.007</td>\n</tr>\n<tr>\n  <th>C(fips)[T.39]</th>   <td>   -0.0087</td> <td>    0.001</td> <td>  -11.522</td> <td> 0.000</td> <td>   -0.010</td> <td>   -0.007</td>\n</tr>\n<tr>\n  <th>C(fips)[T.40]</th>   <td>   -0.0056</td> <td>    0.001</td> <td>   -8.432</td> <td> 0.000</td> <td>   -0.007</td> <td>   -0.004</td>\n</tr>\n<tr>\n  <th>C(fips)[T.41]</th>   <td>   -0.0048</td> <td>    0.001</td> <td>   -4.590</td> <td> 0.000</td> <td>   -0.007</td> <td>   -0.003</td>\n</tr>\n<tr>\n  <th>C(fips)[T.42]</th>   <td>   -0.0105</td> <td>    0.001</td> <td>   -8.432</td> <td> 0.000</td> <td>   -0.013</td> <td>   -0.008</td>\n</tr>\n<tr>\n  <th>C(fips)[T.44]</th>   <td>   -0.0170</td> <td>    0.001</td> <td>  -14.923</td> <td> 0.000</td> <td>   -0.019</td> <td>   -0.015</td>\n</tr>\n<tr>\n  <th>C(fips)[T.45]</th>   <td>    0.0035</td> <td>    0.001</td> <td>    4.446</td> <td> 0.000</td> <td>    0.002</td> <td>    0.005</td>\n</tr>\n<tr>\n  <th>C(fips)[T.46]</th>   <td>   -0.0025</td> <td>    0.001</td> <td>   -3.453</td> <td> 0.001</td> <td>   -0.004</td> <td>   -0.001</td>\n</tr>\n<tr>\n  <th>C(fips)[T.47]</th>   <td>   -0.0009</td> <td>    0.001</td> <td>   -1.206</td> <td> 0.228</td> <td>   -0.002</td> <td>    0.001</td>\n</tr>\n<tr>\n  <th>C(fips)[T.48]</th>   <td>   -0.0011</td> <td>    0.001</td> <td>   -0.805</td> <td> 0.421</td> <td>   -0.004</td> <td>    0.002</td>\n</tr>\n<tr>\n  <th>C(fips)[T.49]</th>   <td>    0.0052</td> <td>    0.002</td> <td>    2.309</td> <td> 0.021</td> <td>    0.001</td> <td>    0.010</td>\n</tr>\n<tr>\n  <th>C(fips)[T.50]</th>   <td>   -0.0064</td> <td>    0.001</td> <td>   -8.741</td> <td> 0.000</td> <td>   -0.008</td> <td>   -0.005</td>\n</tr>\n<tr>\n  <th>C(fips)[T.51]</th>   <td>   -0.0091</td> <td>    0.001</td> <td>   -9.870</td> <td> 0.000</td> <td>   -0.011</td> <td>   -0.007</td>\n</tr>\n<tr>\n  <th>C(fips)[T.53]</th>   <td>   -0.0090</td> <td>    0.001</td> <td>   -9.715</td> <td> 0.000</td> <td>   -0.011</td> <td>   -0.007</td>\n</tr>\n<tr>\n  <th>C(fips)[T.54]</th>   <td>   -0.0012</td> <td>    0.001</td> <td>   -1.191</td> <td> 0.234</td> <td>   -0.003</td> <td>    0.001</td>\n</tr>\n<tr>\n  <th>C(fips)[T.55]</th>   <td>   -0.0088</td> <td>    0.001</td> <td>  -11.273</td> <td> 0.000</td> <td>   -0.010</td> <td>   -0.007</td>\n</tr>\n<tr>\n  <th>C(fips)[T.56]</th>   <td>   -0.0005</td> <td>    0.001</td> <td>   -0.503</td> <td> 0.615</td> <td>   -0.002</td> <td>    0.001</td>\n</tr>\n<tr>\n  <th>sb_usage</th>        <td>   -0.0035</td> <td>    0.001</td> <td>   -2.707</td> <td> 0.007</td> <td>   -0.006</td> <td>   -0.001</td>\n</tr>\n<tr>\n  <th>speed65</th>         <td>   -0.0005</td> <td>    0.000</td> <td>   -1.234</td> <td> 0.218</td> <td>   -0.001</td> <td>    0.000</td>\n</tr>\n<tr>\n  <th>speed70</th>         <td>    0.0011</td> <td>    0.000</td> <td>    3.240</td> <td> 0.001</td> <td>    0.000</td> <td>    0.002</td>\n</tr>\n<tr>\n  <th>drinkage21</th>      <td>   -0.0011</td> <td>    0.001</td> <td>   -1.936</td> <td> 0.053</td> <td>   -0.002</td> <td> 1.58e-05</td>\n</tr>\n<tr>\n  <th>ba08</th>            <td>   -0.0008</td> <td>    0.000</td> <td>   -2.203</td> <td> 0.028</td> <td>   -0.001</td> <td> -8.3e-05</td>\n</tr>\n<tr>\n  <th>income</th>          <td> 4.853e-07</td> <td> 1.47e-07</td> <td>    3.301</td> <td> 0.001</td> <td> 1.96e-07</td> <td> 7.74e-07</td>\n</tr>\n<tr>\n  <th>age</th>             <td>    0.0017</td> <td>    0.000</td> <td>    4.361</td> <td> 0.000</td> <td>    0.001</td> <td>    0.003</td>\n</tr>\n<tr>\n  <th>primary</th>         <td>    0.0004</td> <td>    0.001</td> <td>    0.473</td> <td> 0.637</td> <td>   -0.001</td> <td>    0.002</td>\n</tr>\n<tr>\n  <th>secondary</th>       <td>   -0.0001</td> <td>    0.000</td> <td>   -0.409</td> <td> 0.683</td> <td>   -0.001</td> <td>    0.001</td>\n</tr>\n</table>\n<table class=\"simpletable\">\n<tr>\n  <th>Omnibus:</th>       <td>66.332</td> <th>  Durbin-Watson:     </th> <td>   1.396</td>\n</tr>\n<tr>\n  <th>Prob(Omnibus):</th> <td> 0.000</td> <th>  Jarque-Bera (JB):  </th> <td> 160.156</td>\n</tr>\n<tr>\n  <th>Skew:</th>          <td> 0.631</td> <th>  Prob(JB):          </th> <td>1.67e-35</td>\n</tr>\n<tr>\n  <th>Kurtosis:</th>      <td> 5.306</td> <th>  Cond. No.          </th> <td>4.48e+06</td>\n</tr>\n</table><br/><br/>Notes:<br/>[1] Standard Errors assume that the covariance matrix of the errors is correctly specified.<br/>[2] The condition number is large, 4.48e+06. This might indicate that there are<br/>strong multicollinearity or other numerical problems."
     },
     "metadata": {},
     "execution_count": 10
    }
   ],
   "source": [
    "results_ols = smf.ols('fatalityrate ~ sb_usage + speed65 + speed70 + drinkage21 \\\n",
    "                        + ba08 + income + age + primary + secondary + C(year) + C(fips)',\n",
    "                      data=seatbelt_df).fit()\n",
    "print(' ')\n",
    "print('sb_usage mean:',\n",
    "      results_ols.params['sb_usage'])\n",
    "print('sb_usage confidence interval:',\n",
    "      results_ols.conf_int()[0]['sb_usage'], results_ols.conf_int()[1]['sb_usage'])\n",
    "print(' ')\n",
    "results_ols.summary()"
   ]
  },
  {
   "cell_type": "code",
   "execution_count": 11,
   "metadata": {},
   "outputs": [
    {
     "output_type": "stream",
     "name": "stdout",
     "text": [
      " \nsb_usage mean: -0.0034530603654962877\nsb_usage confidence interval: -0.006208992639212655 -0.0006971280917799209\n \n"
     ]
    },
    {
     "output_type": "execute_result",
     "data": {
      "text/plain": [
       "<class 'statsmodels.iolib.summary.Summary'>\n",
       "\"\"\"\n",
       "                            OLS Regression Results                            \n",
       "==============================================================================\n",
       "Dep. Variable:           fatalityrate   R-squared:                       0.912\n",
       "Model:                            OLS   Adj. R-squared:                  0.898\n",
       "Method:                 Least Squares   F-statistic:                     135.0\n",
       "Date:                Mon, 12 Apr 2021   Prob (F-statistic):          1.86e-277\n",
       "Time:                        09:08:05   Log-Likelihood:                 2828.6\n",
       "No. Observations:                 556   AIC:                            -5509.\n",
       "Df Residuals:                     482   BIC:                            -5189.\n",
       "Df Model:                          73                                         \n",
       "Covariance Type:                  HC0                                         \n",
       "===================================================================================\n",
       "                      coef    std err          z      P>|z|      [0.025      0.975]\n",
       "-----------------------------------------------------------------------------------\n",
       "Intercept          -0.0343      0.014     -2.448      0.014      -0.062      -0.007\n",
       "C(year)[T.1984]    -0.0002      0.001     -0.194      0.846      -0.002       0.002\n",
       "C(year)[T.1985]    -0.0009      0.001     -0.773      0.440      -0.003       0.001\n",
       "C(year)[T.1986]    -0.0006      0.001     -0.491      0.623      -0.003       0.002\n",
       "C(year)[T.1987]    -0.0012      0.001     -0.866      0.387      -0.004       0.002\n",
       "C(year)[T.1988]    -0.0025      0.002     -1.546      0.122      -0.006       0.001\n",
       "C(year)[T.1989]    -0.0049      0.002     -2.861      0.004      -0.008      -0.002\n",
       "C(year)[T.1990]    -0.0062      0.002     -3.292      0.001      -0.010      -0.003\n",
       "C(year)[T.1991]    -0.0077      0.002     -3.956      0.000      -0.012      -0.004\n",
       "C(year)[T.1992]    -0.0098      0.002     -4.678      0.000      -0.014      -0.006\n",
       "C(year)[T.1993]    -0.0104      0.002     -4.738      0.000      -0.015      -0.006\n",
       "C(year)[T.1994]    -0.0113      0.002     -4.768      0.000      -0.016      -0.007\n",
       "C(year)[T.1995]    -0.0122      0.003     -4.728      0.000      -0.017      -0.007\n",
       "C(year)[T.1996]    -0.0134      0.003     -4.859      0.000      -0.019      -0.008\n",
       "C(year)[T.1997]    -0.0142      0.003     -4.760      0.000      -0.020      -0.008\n",
       "C(fips)[T.2]        0.0079      0.003      2.843      0.004       0.002       0.013\n",
       "C(fips)[T.4]        0.0013      0.001      1.826      0.068   -9.82e-05       0.003\n",
       "C(fips)[T.5]        0.0021      0.001      3.486      0.000       0.001       0.003\n",
       "C(fips)[T.6]       -0.0047      0.001     -3.378      0.001      -0.007      -0.002\n",
       "C(fips)[T.8]       -0.0046      0.001     -4.240      0.000      -0.007      -0.002\n",
       "C(fips)[T.9]       -0.0191      0.002     -8.877      0.000      -0.023      -0.015\n",
       "C(fips)[T.10]      -0.0083      0.001     -6.027      0.000      -0.011      -0.006\n",
       "C(fips)[T.11]      -0.0139      0.003     -5.315      0.000      -0.019      -0.009\n",
       "C(fips)[T.12]      -0.0065      0.002     -4.278      0.000      -0.009      -0.003\n",
       "C(fips)[T.13]      -0.0024      0.001     -2.456      0.014      -0.004      -0.000\n",
       "C(fips)[T.15]      -0.0078      0.001     -6.133      0.000      -0.010      -0.005\n",
       "C(fips)[T.16]       0.0039      0.001      3.616      0.000       0.002       0.006\n",
       "C(fips)[T.17]      -0.0079      0.001     -7.157      0.000      -0.010      -0.006\n",
       "C(fips)[T.18]      -0.0068      0.001    -10.071      0.000      -0.008      -0.005\n",
       "C(fips)[T.19]      -0.0067      0.001     -6.396      0.000      -0.009      -0.005\n",
       "C(fips)[T.20]      -0.0057      0.001     -7.294      0.000      -0.007      -0.004\n",
       "C(fips)[T.21]      -0.0013      0.001     -2.578      0.010      -0.002      -0.000\n",
       "C(fips)[T.22]       0.0041      0.001      4.144      0.000       0.002       0.006\n",
       "C(fips)[T.23]      -0.0084      0.001    -12.847      0.000      -0.010      -0.007\n",
       "C(fips)[T.24]      -0.0091      0.001     -6.780      0.000      -0.012      -0.006\n",
       "C(fips)[T.25]      -0.0179      0.002    -11.727      0.000      -0.021      -0.015\n",
       "C(fips)[T.26]      -0.0062      0.001     -7.106      0.000      -0.008      -0.004\n",
       "C(fips)[T.27]      -0.0109      0.001    -10.804      0.000      -0.013      -0.009\n",
       "C(fips)[T.28]       0.0087      0.001      9.097      0.000       0.007       0.011\n",
       "C(fips)[T.29]      -0.0048      0.001     -6.020      0.000      -0.006      -0.003\n",
       "C(fips)[T.30]       0.0010      0.001      1.328      0.184      -0.000       0.003\n",
       "C(fips)[T.31]      -0.0072      0.001    -10.325      0.000      -0.009      -0.006\n",
       "C(fips)[T.32]       0.0009      0.001      0.665      0.506      -0.002       0.003\n",
       "C(fips)[T.33]      -0.0114      0.001     -9.834      0.000      -0.014      -0.009\n",
       "C(fips)[T.34]      -0.0163      0.002     -9.729      0.000      -0.020      -0.013\n",
       "C(fips)[T.35]       0.0062      0.001      4.525      0.000       0.004       0.009\n",
       "C(fips)[T.36]      -0.0111      0.001     -7.699      0.000      -0.014      -0.008\n",
       "C(fips)[T.37]      -0.0018      0.001     -1.804      0.071      -0.004       0.000\n",
       "C(fips)[T.38]      -0.0088      0.001    -13.160      0.000      -0.010      -0.007\n",
       "C(fips)[T.39]      -0.0087      0.001    -12.399      0.000      -0.010      -0.007\n",
       "C(fips)[T.40]      -0.0056      0.001     -7.133      0.000      -0.007      -0.004\n",
       "C(fips)[T.41]      -0.0048      0.001     -5.039      0.000      -0.007      -0.003\n",
       "C(fips)[T.42]      -0.0105      0.001     -9.733      0.000      -0.013      -0.008\n",
       "C(fips)[T.44]      -0.0170      0.001    -16.443      0.000      -0.019      -0.015\n",
       "C(fips)[T.45]       0.0035      0.001      4.360      0.000       0.002       0.005\n",
       "C(fips)[T.46]      -0.0025      0.001     -3.747      0.000      -0.004      -0.001\n",
       "C(fips)[T.47]      -0.0009      0.001     -1.799      0.072      -0.002    8.29e-05\n",
       "C(fips)[T.48]      -0.0011      0.001     -0.791      0.429      -0.004       0.002\n",
       "C(fips)[T.49]       0.0052      0.002      2.304      0.021       0.001       0.010\n",
       "C(fips)[T.50]      -0.0064      0.001     -8.444      0.000      -0.008      -0.005\n",
       "C(fips)[T.51]      -0.0091      0.001     -8.807      0.000      -0.011      -0.007\n",
       "C(fips)[T.53]      -0.0090      0.001     -8.925      0.000      -0.011      -0.007\n",
       "C(fips)[T.54]      -0.0012      0.001     -0.997      0.319      -0.004       0.001\n",
       "C(fips)[T.55]      -0.0088      0.001    -12.888      0.000      -0.010      -0.007\n",
       "C(fips)[T.56]      -0.0005      0.001     -0.421      0.674      -0.003       0.002\n",
       "sb_usage           -0.0035      0.001     -2.456      0.014      -0.006      -0.001\n",
       "speed65            -0.0005      0.000     -1.400      0.162      -0.001       0.000\n",
       "speed70             0.0011      0.000      3.380      0.001       0.000       0.002\n",
       "drinkage21         -0.0011      0.001     -1.777      0.076      -0.002       0.000\n",
       "ba08               -0.0008      0.000     -2.652      0.008      -0.001      -0.000\n",
       "income           4.853e-07   1.75e-07      2.767      0.006    1.42e-07    8.29e-07\n",
       "age                 0.0017      0.000      4.332      0.000       0.001       0.003\n",
       "primary             0.0004      0.001      0.475      0.635      -0.001       0.002\n",
       "secondary          -0.0001      0.000     -0.400      0.689      -0.001       0.001\n",
       "==============================================================================\n",
       "Omnibus:                       66.332   Durbin-Watson:                   1.396\n",
       "Prob(Omnibus):                  0.000   Jarque-Bera (JB):              160.156\n",
       "Skew:                           0.631   Prob(JB):                     1.67e-35\n",
       "Kurtosis:                       5.306   Cond. No.                     4.48e+06\n",
       "==============================================================================\n",
       "\n",
       "Notes:\n",
       "[1] Standard Errors are heteroscedasticity robust (HC0)\n",
       "[2] The condition number is large, 4.48e+06. This might indicate that there are\n",
       "strong multicollinearity or other numerical problems.\n",
       "\"\"\""
      ],
      "text/html": "<table class=\"simpletable\">\n<caption>OLS Regression Results</caption>\n<tr>\n  <th>Dep. Variable:</th>      <td>fatalityrate</td>   <th>  R-squared:         </th> <td>   0.912</td> \n</tr>\n<tr>\n  <th>Model:</th>                   <td>OLS</td>       <th>  Adj. R-squared:    </th> <td>   0.898</td> \n</tr>\n<tr>\n  <th>Method:</th>             <td>Least Squares</td>  <th>  F-statistic:       </th> <td>   135.0</td> \n</tr>\n<tr>\n  <th>Date:</th>             <td>Mon, 12 Apr 2021</td> <th>  Prob (F-statistic):</th> <td>1.86e-277</td>\n</tr>\n<tr>\n  <th>Time:</th>                 <td>09:08:05</td>     <th>  Log-Likelihood:    </th> <td>  2828.6</td> \n</tr>\n<tr>\n  <th>No. Observations:</th>      <td>   556</td>      <th>  AIC:               </th> <td>  -5509.</td> \n</tr>\n<tr>\n  <th>Df Residuals:</th>          <td>   482</td>      <th>  BIC:               </th> <td>  -5189.</td> \n</tr>\n<tr>\n  <th>Df Model:</th>              <td>    73</td>      <th>                     </th>     <td> </td>    \n</tr>\n<tr>\n  <th>Covariance Type:</th>         <td>HC0</td>       <th>                     </th>     <td> </td>    \n</tr>\n</table>\n<table class=\"simpletable\">\n<tr>\n         <td></td>            <th>coef</th>     <th>std err</th>      <th>z</th>      <th>P>|z|</th>  <th>[0.025</th>    <th>0.975]</th>  \n</tr>\n<tr>\n  <th>Intercept</th>       <td>   -0.0343</td> <td>    0.014</td> <td>   -2.448</td> <td> 0.014</td> <td>   -0.062</td> <td>   -0.007</td>\n</tr>\n<tr>\n  <th>C(year)[T.1984]</th> <td>   -0.0002</td> <td>    0.001</td> <td>   -0.194</td> <td> 0.846</td> <td>   -0.002</td> <td>    0.002</td>\n</tr>\n<tr>\n  <th>C(year)[T.1985]</th> <td>   -0.0009</td> <td>    0.001</td> <td>   -0.773</td> <td> 0.440</td> <td>   -0.003</td> <td>    0.001</td>\n</tr>\n<tr>\n  <th>C(year)[T.1986]</th> <td>   -0.0006</td> <td>    0.001</td> <td>   -0.491</td> <td> 0.623</td> <td>   -0.003</td> <td>    0.002</td>\n</tr>\n<tr>\n  <th>C(year)[T.1987]</th> <td>   -0.0012</td> <td>    0.001</td> <td>   -0.866</td> <td> 0.387</td> <td>   -0.004</td> <td>    0.002</td>\n</tr>\n<tr>\n  <th>C(year)[T.1988]</th> <td>   -0.0025</td> <td>    0.002</td> <td>   -1.546</td> <td> 0.122</td> <td>   -0.006</td> <td>    0.001</td>\n</tr>\n<tr>\n  <th>C(year)[T.1989]</th> <td>   -0.0049</td> <td>    0.002</td> <td>   -2.861</td> <td> 0.004</td> <td>   -0.008</td> <td>   -0.002</td>\n</tr>\n<tr>\n  <th>C(year)[T.1990]</th> <td>   -0.0062</td> <td>    0.002</td> <td>   -3.292</td> <td> 0.001</td> <td>   -0.010</td> <td>   -0.003</td>\n</tr>\n<tr>\n  <th>C(year)[T.1991]</th> <td>   -0.0077</td> <td>    0.002</td> <td>   -3.956</td> <td> 0.000</td> <td>   -0.012</td> <td>   -0.004</td>\n</tr>\n<tr>\n  <th>C(year)[T.1992]</th> <td>   -0.0098</td> <td>    0.002</td> <td>   -4.678</td> <td> 0.000</td> <td>   -0.014</td> <td>   -0.006</td>\n</tr>\n<tr>\n  <th>C(year)[T.1993]</th> <td>   -0.0104</td> <td>    0.002</td> <td>   -4.738</td> <td> 0.000</td> <td>   -0.015</td> <td>   -0.006</td>\n</tr>\n<tr>\n  <th>C(year)[T.1994]</th> <td>   -0.0113</td> <td>    0.002</td> <td>   -4.768</td> <td> 0.000</td> <td>   -0.016</td> <td>   -0.007</td>\n</tr>\n<tr>\n  <th>C(year)[T.1995]</th> <td>   -0.0122</td> <td>    0.003</td> <td>   -4.728</td> <td> 0.000</td> <td>   -0.017</td> <td>   -0.007</td>\n</tr>\n<tr>\n  <th>C(year)[T.1996]</th> <td>   -0.0134</td> <td>    0.003</td> <td>   -4.859</td> <td> 0.000</td> <td>   -0.019</td> <td>   -0.008</td>\n</tr>\n<tr>\n  <th>C(year)[T.1997]</th> <td>   -0.0142</td> <td>    0.003</td> <td>   -4.760</td> <td> 0.000</td> <td>   -0.020</td> <td>   -0.008</td>\n</tr>\n<tr>\n  <th>C(fips)[T.2]</th>    <td>    0.0079</td> <td>    0.003</td> <td>    2.843</td> <td> 0.004</td> <td>    0.002</td> <td>    0.013</td>\n</tr>\n<tr>\n  <th>C(fips)[T.4]</th>    <td>    0.0013</td> <td>    0.001</td> <td>    1.826</td> <td> 0.068</td> <td>-9.82e-05</td> <td>    0.003</td>\n</tr>\n<tr>\n  <th>C(fips)[T.5]</th>    <td>    0.0021</td> <td>    0.001</td> <td>    3.486</td> <td> 0.000</td> <td>    0.001</td> <td>    0.003</td>\n</tr>\n<tr>\n  <th>C(fips)[T.6]</th>    <td>   -0.0047</td> <td>    0.001</td> <td>   -3.378</td> <td> 0.001</td> <td>   -0.007</td> <td>   -0.002</td>\n</tr>\n<tr>\n  <th>C(fips)[T.8]</th>    <td>   -0.0046</td> <td>    0.001</td> <td>   -4.240</td> <td> 0.000</td> <td>   -0.007</td> <td>   -0.002</td>\n</tr>\n<tr>\n  <th>C(fips)[T.9]</th>    <td>   -0.0191</td> <td>    0.002</td> <td>   -8.877</td> <td> 0.000</td> <td>   -0.023</td> <td>   -0.015</td>\n</tr>\n<tr>\n  <th>C(fips)[T.10]</th>   <td>   -0.0083</td> <td>    0.001</td> <td>   -6.027</td> <td> 0.000</td> <td>   -0.011</td> <td>   -0.006</td>\n</tr>\n<tr>\n  <th>C(fips)[T.11]</th>   <td>   -0.0139</td> <td>    0.003</td> <td>   -5.315</td> <td> 0.000</td> <td>   -0.019</td> <td>   -0.009</td>\n</tr>\n<tr>\n  <th>C(fips)[T.12]</th>   <td>   -0.0065</td> <td>    0.002</td> <td>   -4.278</td> <td> 0.000</td> <td>   -0.009</td> <td>   -0.003</td>\n</tr>\n<tr>\n  <th>C(fips)[T.13]</th>   <td>   -0.0024</td> <td>    0.001</td> <td>   -2.456</td> <td> 0.014</td> <td>   -0.004</td> <td>   -0.000</td>\n</tr>\n<tr>\n  <th>C(fips)[T.15]</th>   <td>   -0.0078</td> <td>    0.001</td> <td>   -6.133</td> <td> 0.000</td> <td>   -0.010</td> <td>   -0.005</td>\n</tr>\n<tr>\n  <th>C(fips)[T.16]</th>   <td>    0.0039</td> <td>    0.001</td> <td>    3.616</td> <td> 0.000</td> <td>    0.002</td> <td>    0.006</td>\n</tr>\n<tr>\n  <th>C(fips)[T.17]</th>   <td>   -0.0079</td> <td>    0.001</td> <td>   -7.157</td> <td> 0.000</td> <td>   -0.010</td> <td>   -0.006</td>\n</tr>\n<tr>\n  <th>C(fips)[T.18]</th>   <td>   -0.0068</td> <td>    0.001</td> <td>  -10.071</td> <td> 0.000</td> <td>   -0.008</td> <td>   -0.005</td>\n</tr>\n<tr>\n  <th>C(fips)[T.19]</th>   <td>   -0.0067</td> <td>    0.001</td> <td>   -6.396</td> <td> 0.000</td> <td>   -0.009</td> <td>   -0.005</td>\n</tr>\n<tr>\n  <th>C(fips)[T.20]</th>   <td>   -0.0057</td> <td>    0.001</td> <td>   -7.294</td> <td> 0.000</td> <td>   -0.007</td> <td>   -0.004</td>\n</tr>\n<tr>\n  <th>C(fips)[T.21]</th>   <td>   -0.0013</td> <td>    0.001</td> <td>   -2.578</td> <td> 0.010</td> <td>   -0.002</td> <td>   -0.000</td>\n</tr>\n<tr>\n  <th>C(fips)[T.22]</th>   <td>    0.0041</td> <td>    0.001</td> <td>    4.144</td> <td> 0.000</td> <td>    0.002</td> <td>    0.006</td>\n</tr>\n<tr>\n  <th>C(fips)[T.23]</th>   <td>   -0.0084</td> <td>    0.001</td> <td>  -12.847</td> <td> 0.000</td> <td>   -0.010</td> <td>   -0.007</td>\n</tr>\n<tr>\n  <th>C(fips)[T.24]</th>   <td>   -0.0091</td> <td>    0.001</td> <td>   -6.780</td> <td> 0.000</td> <td>   -0.012</td> <td>   -0.006</td>\n</tr>\n<tr>\n  <th>C(fips)[T.25]</th>   <td>   -0.0179</td> <td>    0.002</td> <td>  -11.727</td> <td> 0.000</td> <td>   -0.021</td> <td>   -0.015</td>\n</tr>\n<tr>\n  <th>C(fips)[T.26]</th>   <td>   -0.0062</td> <td>    0.001</td> <td>   -7.106</td> <td> 0.000</td> <td>   -0.008</td> <td>   -0.004</td>\n</tr>\n<tr>\n  <th>C(fips)[T.27]</th>   <td>   -0.0109</td> <td>    0.001</td> <td>  -10.804</td> <td> 0.000</td> <td>   -0.013</td> <td>   -0.009</td>\n</tr>\n<tr>\n  <th>C(fips)[T.28]</th>   <td>    0.0087</td> <td>    0.001</td> <td>    9.097</td> <td> 0.000</td> <td>    0.007</td> <td>    0.011</td>\n</tr>\n<tr>\n  <th>C(fips)[T.29]</th>   <td>   -0.0048</td> <td>    0.001</td> <td>   -6.020</td> <td> 0.000</td> <td>   -0.006</td> <td>   -0.003</td>\n</tr>\n<tr>\n  <th>C(fips)[T.30]</th>   <td>    0.0010</td> <td>    0.001</td> <td>    1.328</td> <td> 0.184</td> <td>   -0.000</td> <td>    0.003</td>\n</tr>\n<tr>\n  <th>C(fips)[T.31]</th>   <td>   -0.0072</td> <td>    0.001</td> <td>  -10.325</td> <td> 0.000</td> <td>   -0.009</td> <td>   -0.006</td>\n</tr>\n<tr>\n  <th>C(fips)[T.32]</th>   <td>    0.0009</td> <td>    0.001</td> <td>    0.665</td> <td> 0.506</td> <td>   -0.002</td> <td>    0.003</td>\n</tr>\n<tr>\n  <th>C(fips)[T.33]</th>   <td>   -0.0114</td> <td>    0.001</td> <td>   -9.834</td> <td> 0.000</td> <td>   -0.014</td> <td>   -0.009</td>\n</tr>\n<tr>\n  <th>C(fips)[T.34]</th>   <td>   -0.0163</td> <td>    0.002</td> <td>   -9.729</td> <td> 0.000</td> <td>   -0.020</td> <td>   -0.013</td>\n</tr>\n<tr>\n  <th>C(fips)[T.35]</th>   <td>    0.0062</td> <td>    0.001</td> <td>    4.525</td> <td> 0.000</td> <td>    0.004</td> <td>    0.009</td>\n</tr>\n<tr>\n  <th>C(fips)[T.36]</th>   <td>   -0.0111</td> <td>    0.001</td> <td>   -7.699</td> <td> 0.000</td> <td>   -0.014</td> <td>   -0.008</td>\n</tr>\n<tr>\n  <th>C(fips)[T.37]</th>   <td>   -0.0018</td> <td>    0.001</td> <td>   -1.804</td> <td> 0.071</td> <td>   -0.004</td> <td>    0.000</td>\n</tr>\n<tr>\n  <th>C(fips)[T.38]</th>   <td>   -0.0088</td> <td>    0.001</td> <td>  -13.160</td> <td> 0.000</td> <td>   -0.010</td> <td>   -0.007</td>\n</tr>\n<tr>\n  <th>C(fips)[T.39]</th>   <td>   -0.0087</td> <td>    0.001</td> <td>  -12.399</td> <td> 0.000</td> <td>   -0.010</td> <td>   -0.007</td>\n</tr>\n<tr>\n  <th>C(fips)[T.40]</th>   <td>   -0.0056</td> <td>    0.001</td> <td>   -7.133</td> <td> 0.000</td> <td>   -0.007</td> <td>   -0.004</td>\n</tr>\n<tr>\n  <th>C(fips)[T.41]</th>   <td>   -0.0048</td> <td>    0.001</td> <td>   -5.039</td> <td> 0.000</td> <td>   -0.007</td> <td>   -0.003</td>\n</tr>\n<tr>\n  <th>C(fips)[T.42]</th>   <td>   -0.0105</td> <td>    0.001</td> <td>   -9.733</td> <td> 0.000</td> <td>   -0.013</td> <td>   -0.008</td>\n</tr>\n<tr>\n  <th>C(fips)[T.44]</th>   <td>   -0.0170</td> <td>    0.001</td> <td>  -16.443</td> <td> 0.000</td> <td>   -0.019</td> <td>   -0.015</td>\n</tr>\n<tr>\n  <th>C(fips)[T.45]</th>   <td>    0.0035</td> <td>    0.001</td> <td>    4.360</td> <td> 0.000</td> <td>    0.002</td> <td>    0.005</td>\n</tr>\n<tr>\n  <th>C(fips)[T.46]</th>   <td>   -0.0025</td> <td>    0.001</td> <td>   -3.747</td> <td> 0.000</td> <td>   -0.004</td> <td>   -0.001</td>\n</tr>\n<tr>\n  <th>C(fips)[T.47]</th>   <td>   -0.0009</td> <td>    0.001</td> <td>   -1.799</td> <td> 0.072</td> <td>   -0.002</td> <td> 8.29e-05</td>\n</tr>\n<tr>\n  <th>C(fips)[T.48]</th>   <td>   -0.0011</td> <td>    0.001</td> <td>   -0.791</td> <td> 0.429</td> <td>   -0.004</td> <td>    0.002</td>\n</tr>\n<tr>\n  <th>C(fips)[T.49]</th>   <td>    0.0052</td> <td>    0.002</td> <td>    2.304</td> <td> 0.021</td> <td>    0.001</td> <td>    0.010</td>\n</tr>\n<tr>\n  <th>C(fips)[T.50]</th>   <td>   -0.0064</td> <td>    0.001</td> <td>   -8.444</td> <td> 0.000</td> <td>   -0.008</td> <td>   -0.005</td>\n</tr>\n<tr>\n  <th>C(fips)[T.51]</th>   <td>   -0.0091</td> <td>    0.001</td> <td>   -8.807</td> <td> 0.000</td> <td>   -0.011</td> <td>   -0.007</td>\n</tr>\n<tr>\n  <th>C(fips)[T.53]</th>   <td>   -0.0090</td> <td>    0.001</td> <td>   -8.925</td> <td> 0.000</td> <td>   -0.011</td> <td>   -0.007</td>\n</tr>\n<tr>\n  <th>C(fips)[T.54]</th>   <td>   -0.0012</td> <td>    0.001</td> <td>   -0.997</td> <td> 0.319</td> <td>   -0.004</td> <td>    0.001</td>\n</tr>\n<tr>\n  <th>C(fips)[T.55]</th>   <td>   -0.0088</td> <td>    0.001</td> <td>  -12.888</td> <td> 0.000</td> <td>   -0.010</td> <td>   -0.007</td>\n</tr>\n<tr>\n  <th>C(fips)[T.56]</th>   <td>   -0.0005</td> <td>    0.001</td> <td>   -0.421</td> <td> 0.674</td> <td>   -0.003</td> <td>    0.002</td>\n</tr>\n<tr>\n  <th>sb_usage</th>        <td>   -0.0035</td> <td>    0.001</td> <td>   -2.456</td> <td> 0.014</td> <td>   -0.006</td> <td>   -0.001</td>\n</tr>\n<tr>\n  <th>speed65</th>         <td>   -0.0005</td> <td>    0.000</td> <td>   -1.400</td> <td> 0.162</td> <td>   -0.001</td> <td>    0.000</td>\n</tr>\n<tr>\n  <th>speed70</th>         <td>    0.0011</td> <td>    0.000</td> <td>    3.380</td> <td> 0.001</td> <td>    0.000</td> <td>    0.002</td>\n</tr>\n<tr>\n  <th>drinkage21</th>      <td>   -0.0011</td> <td>    0.001</td> <td>   -1.777</td> <td> 0.076</td> <td>   -0.002</td> <td>    0.000</td>\n</tr>\n<tr>\n  <th>ba08</th>            <td>   -0.0008</td> <td>    0.000</td> <td>   -2.652</td> <td> 0.008</td> <td>   -0.001</td> <td>   -0.000</td>\n</tr>\n<tr>\n  <th>income</th>          <td> 4.853e-07</td> <td> 1.75e-07</td> <td>    2.767</td> <td> 0.006</td> <td> 1.42e-07</td> <td> 8.29e-07</td>\n</tr>\n<tr>\n  <th>age</th>             <td>    0.0017</td> <td>    0.000</td> <td>    4.332</td> <td> 0.000</td> <td>    0.001</td> <td>    0.003</td>\n</tr>\n<tr>\n  <th>primary</th>         <td>    0.0004</td> <td>    0.001</td> <td>    0.475</td> <td> 0.635</td> <td>   -0.001</td> <td>    0.002</td>\n</tr>\n<tr>\n  <th>secondary</th>       <td>   -0.0001</td> <td>    0.000</td> <td>   -0.400</td> <td> 0.689</td> <td>   -0.001</td> <td>    0.001</td>\n</tr>\n</table>\n<table class=\"simpletable\">\n<tr>\n  <th>Omnibus:</th>       <td>66.332</td> <th>  Durbin-Watson:     </th> <td>   1.396</td>\n</tr>\n<tr>\n  <th>Prob(Omnibus):</th> <td> 0.000</td> <th>  Jarque-Bera (JB):  </th> <td> 160.156</td>\n</tr>\n<tr>\n  <th>Skew:</th>          <td> 0.631</td> <th>  Prob(JB):          </th> <td>1.67e-35</td>\n</tr>\n<tr>\n  <th>Kurtosis:</th>      <td> 5.306</td> <th>  Cond. No.          </th> <td>4.48e+06</td>\n</tr>\n</table><br/><br/>Notes:<br/>[1] Standard Errors are heteroscedasticity robust (HC0)<br/>[2] The condition number is large, 4.48e+06. This might indicate that there are<br/>strong multicollinearity or other numerical problems."
     },
     "metadata": {},
     "execution_count": 11
    }
   ],
   "source": [
    "results_ols_hc0 = smf.ols('fatalityrate ~ sb_usage + speed65 + speed70 + drinkage21 \\\n",
    "                            + ba08 + income + age + primary + secondary + C(year) + C(fips)',\n",
    "                            data=seatbelt_df).fit(cov_type='HC0')\n",
    "print(' ')\n",
    "print('sb_usage mean:',\n",
    "      results_ols_hc0.params['sb_usage'])\n",
    "print('sb_usage confidence interval:',\n",
    "      results_ols_hc0.conf_int()[0]['sb_usage'],\n",
    "      results_ols_hc0.conf_int()[1]['sb_usage'])\n",
    "print(' ')\n",
    "results_ols_hc0.summary() "
   ]
  }
 ],
 "metadata": {
  "kernelspec": {
   "name": "python385jvsc74a57bd07512963c9b90b5585c663cd0163a2a5650fbca51cf59465184009057a788eb6c",
   "display_name": "Python 3.8.5 64-bit ('base': conda)"
  },
  "language_info": {
   "codemirror_mode": {
    "name": "ipython",
    "version": 3
   },
   "file_extension": ".py",
   "mimetype": "text/x-python",
   "name": "python",
   "nbconvert_exporter": "python",
   "pygments_lexer": "ipython3",
   "version": "3.8.5-final"
  }
 },
 "nbformat": 4,
 "nbformat_minor": 4
}